{
 "cells": [
  {
   "cell_type": "markdown",
   "id": "international-registrar",
   "metadata": {},
   "source": [
    "[![author](https://img.shields.io/badge/author-ghermsen-red.svg)](https://www.linkedin.com/in/gabrielhermsen/)"
   ]
  },
  {
   "cell_type": "markdown",
   "id": "daily-correction",
   "metadata": {},
   "source": [
    "# Exploratory Data Analysis São Paulo's Policy Murder Reports\n",
    "\n",
    "According to the [WHO, World Health Organization](https://www.who.int/data/gho/data/indicators/indicator-details/GHO/estimates-of-rates-of-homicides-per-100-000-population) (date of view 03.18.2021), Brazil has a homicide rate of 32.59 per 100 thousand inhabitants, a rate five times higher than the global average (6 for every 100 thousand inhabitants), making the country on the 9th position in this sad statistic.\n",
    "\n",
    "Brazil is a vast country, with more than 200 million inhabitants and divided by 27 federative units, with extreme inequality. An excellent example of these inequalities is the homicide rate of these states that the [Atlas of Violence](https://www.ipea.gov.br/atlasviolencia/arquivos/artigos/3519-atlasdaviolencia2020completo.pdf) (p.18) reported. This report shows us that in 2018 the state of Roraima had the highest homicide rate in the country, 71.8 homicides per 100 thousand inhabitants, whereas the state of São Paulo had the lowest homicide rate in the country with only 8.2 homicides per 100 thousand inhabitants.\n",
    "\n",
    "In this work, an Exploratory Analysis of the police reports referring to homicides in the state of São Paulo will be carried out between the years 2018 and 2020.\n",
    "\n",
    "<br><center><img alt=\"\" width=\"100%\" src=\"img/marilia-castelli-sbXNOlW1Tgk-unsplash.jpg\"></center>\n",
    "Photo by [Marília Castelli](https://unsplash.com/@liacastelli?utm_source=unsplash&amp;utm_medium=referral&amp;utm_content=creditCopyText) on [Unsplash](https://unsplash.com/s/photos/sao-paulo?utm_source=unsplash&amp;utm_medium=referral&amp;utm_content=creditCopyText)"
   ]
  },
  {
   "cell_type": "markdown",
   "id": "common-ecuador",
   "metadata": {},
   "source": [
    "## Imports"
   ]
  },
  {
   "cell_type": "markdown",
   "id": "extreme-checklist",
   "metadata": {},
   "source": [
    "Below there are all the libraries used in this project."
   ]
  },
  {
   "cell_type": "code",
   "execution_count": 45,
   "id": "yellow-dakota",
   "metadata": {
    "ExecuteTime": {
     "end_time": "2021-03-29T02:59:36.829831Z",
     "start_time": "2021-03-29T02:59:36.823090Z"
    }
   },
   "outputs": [],
   "source": [
    "import numpy as np\n",
    "import pandas as pd\n",
    "import matplotlib.pyplot as plt\n",
    "\n",
    "from pywaffle import Waffle\n",
    "\n",
    "%matplotlib inline"
   ]
  },
  {
   "cell_type": "markdown",
   "id": "selective-master",
   "metadata": {},
   "source": [
    "## Helper Functions"
   ]
  },
  {
   "cell_type": "code",
   "execution_count": 2,
   "id": "hispanic-queue",
   "metadata": {
    "ExecuteTime": {
     "end_time": "2021-03-29T02:59:17.297863Z",
     "start_time": "2021-03-29T02:59:17.240522Z"
    },
    "code_folding": []
   },
   "outputs": [],
   "source": [
    "# function make_text\n",
    "\n",
    "def make_text(rows, # number of rows\n",
    "              cols, # number of cols\n",
    "              texts, # number of texts to display\n",
    "              result, # featured text\n",
    "              label = '', # detailed text\n",
    "              font1_size = 80, # featured text font size\n",
    "              font2_size = 20, # detailed text font size\n",
    "              ha = 'center', # horizontal alignment\n",
    "              va = 'center', # vertical alignment\n",
    "              font1_color = '#FF691E', # featured text font color\n",
    "              font2_color = '#5F6A6A', # detailed text font color\n",
    "              font1_weight = 'bold', # featured text font weight\n",
    "              font2_weight = 'normal', # detailed text font weight\n",
    "              sup_title = '', # suptitle\n",
    "              font_suptitle = 30, # font size suptitle\n",
    "              title1 = '', # title left figure\n",
    "              title2 = '', # title right figure\n",
    "              loc = 'center', # loc\n",
    "              font_title = 20, # font size of titles\n",
    "              a = 0.5, # percentage for va featured text\n",
    "              b = 0.5, # percentage for ha featured text\n",
    "              c = 0.5, # percentage for va detailed text\n",
    "              d = 0.1, # percentage for ha detailed text\n",
    "              figsize = (6, 2) # figure size\n",
    "             ): \n",
    "    \n",
    "    # axes coordenates\n",
    "\n",
    "    left, width = 0.25, 0.5\n",
    "    bottom, height = 0.25, 0.5\n",
    "    right = left + width\n",
    "    top = bottom + height\n",
    "    \n",
    "    # text fonts\n",
    "    \n",
    "    fonttitle = {'family': 'sans-serif', 'weight': 'normal', 'size': font_title, 'horizontalalignment': loc}\n",
    "    font1 = {'family': 'sans-serif', 'color': font1_color, 'weight': font1_weight, 'size': font1_size}\n",
    "    font2 = {'family': 'sans-serif', 'color':font2_color, 'weight': font2_weight, 'size': font2_size} \n",
    "        \n",
    "    # creating texts\n",
    "    \n",
    "    if texts > 1:\n",
    "        \n",
    "        # creating the figure for texts\n",
    "        \n",
    "        fig, ax = plt.subplots(rows, cols, figsize = figsize)\n",
    "        \n",
    "        ax = ax.ravel()\n",
    "        \n",
    "        for i in range(len(result)):\n",
    "            \n",
    "            if i == 0:\n",
    "                ax[i].set_title(title1, fontdict = fonttitle)\n",
    "            elif i == 1:\n",
    "                ax[i].set_title(title2, fontdict = fonttitle)\n",
    "                           \n",
    "            ax[i].set(xlim = (0, 1), ylim = (0, 1))\n",
    "                \n",
    "            ax[i].text(a * (left + right), b * (bottom + top), result[i],\n",
    "                    ha = ha,\n",
    "                    va = va,\n",
    "                    fontdict = font1,\n",
    "                    transform = ax[i].transAxes)\n",
    "            if label != '':\n",
    "                ax[i].text(c * (left + right), d * (bottom + top), label[i],\n",
    "                        ha = ha,\n",
    "                        va = va,\n",
    "                        fontdict = font2,\n",
    "                        transform = ax[i].transAxes)\n",
    "   \n",
    "            ax[i].axis('off')\n",
    "            \n",
    "        plt.suptitle(sup_title, fontsize = font_suptitle)\n",
    "                      \n",
    "    else:\n",
    "        \n",
    "        fig, ax = plt.subplots(rows, cols, figsize = figsize)\n",
    "        \n",
    "        ax.set_title(title1, fontdict = fonttitle)\n",
    "        \n",
    "        ax.set(xlim = (0, 1), ylim = (0, 1))\n",
    "                \n",
    "        ax.text(a * (left + right), b * (bottom + top), result,\n",
    "                ha = ha,\n",
    "                va = va,\n",
    "                fontdict = font1,\n",
    "                transform = ax.transAxes)\n",
    "        ax.text(c * (left + right), d * (bottom + top), label,\n",
    "                ha = ha,\n",
    "                va = va,\n",
    "                fontdict = font2,\n",
    "                transform = ax.transAxes)\n",
    "                \n",
    "        ax.axis('off')\n",
    "        \n",
    "    plt.suptitle(sup_title, fontsize = font_suptitle)\n",
    "      \n",
    "# function make_chart_and_text\n",
    "\n",
    "def make_chart_and_text(aux, #aux dataframe for chart\n",
    "                        label,#label for chart \n",
    "                        aux_column,#dataframe col \n",
    "                        result,#featured text\n",
    "                        label1,#detailed text\n",
    "                        min_max = 'min', # values on top of bar, min for min bar, max for max bar\n",
    "                        min_max_all = 'min',# bar color, min for min value, max for max value and '' for all values.\n",
    "                        font1_size=80,#featured text font size\n",
    "                        font2_size=20,#detailed text font size\n",
    "                        font1_color='#FF691E',#featured text font color\n",
    "                        font2_color='#5F6A6A',#detailed text font color\n",
    "                        font1_weight='bold',#featured text font weight\n",
    "                        font2_weight='normal',#detailed text font weight\n",
    "                        a = 0.5,#percentage for va featured text\n",
    "                        b = 0.5,#percentage for ha featured text\n",
    "                        c = 0.5,#percentage for va detailed text\n",
    "                        d = 0.1,#percentage for ha detailed text\n",
    "                        figsize = (10,4)#figsize\n",
    "                       ):\n",
    "    \n",
    "    # axes coordenates\n",
    "\n",
    "    left, width = 0.25, 0.5\n",
    "    bottom, height = 0.25, 0.5\n",
    "    right = left + width\n",
    "    top = bottom + height\n",
    "    \n",
    "    # text fonts\n",
    "    \n",
    "    font1 = {'family': 'sans-serif', 'color': font1_color, 'weight': font1_weight, 'size': font1_size}\n",
    "    font2 = {'family': 'sans-serif', 'color':font2_color, 'weight': font2_weight, 'size': font2_size}\n",
    "\n",
    "    # font bar label and bar conditional\n",
    "    \n",
    "    value_font = {'family': 'sans', 'color':'#5F6A6A','weight': 'bold','size': 10}\n",
    "    color = []\n",
    "    for i in aux[aux_column]:\n",
    "        if min_max_all == 'min':\n",
    "            if i == aux[aux_column].min():\n",
    "                color.append('#FF691E')\n",
    "            else:\n",
    "                color.append('#99A3A4')\n",
    "        elif min_max_all == 'max':\n",
    "            if i == aux[aux_column].max():\n",
    "                color.append('#FF691E')\n",
    "            else:\n",
    "                color.append('#99A3A4')\n",
    "            \n",
    "            \n",
    "    # creating the figure for chart and image       \n",
    "    fig, (ax1, ax2) = plt.subplots(1, 2, figsize = figsize)\n",
    "        \n",
    "    # creating chart \n",
    "        \n",
    "    ax1.bar(aux.index, aux[aux_column], color = color)\n",
    "        \n",
    "    # despine \n",
    "            \n",
    "    ax1.grid(False)\n",
    "    ax1.spines['right'].set_visible(False)\n",
    "    ax1.spines['top'].set_visible(False)\n",
    "    ax1.spines['left'].set_visible(False)\n",
    "    ax1.spines['bottom'].set_visible(False)\n",
    "        \n",
    "    # setting axes labels chart \n",
    "        \n",
    "    ax1.set_xticks(aux.index)\n",
    "    ax1.set_yticks([])\n",
    "        \n",
    "    # result on top of each bar chart\n",
    "    \n",
    "    if min_max == 'max':\n",
    "        for i, v in enumerate(label):\n",
    "            if v == label.max():\n",
    "                ax1.text(aux.index[i], v + 100, str(v), horizontalalignment = 'center',\n",
    "                verticalalignment = 'bottom',\n",
    "                fontdict = value_font)\n",
    "    elif min_max == 'min':\n",
    "        for i, v in enumerate(label):\n",
    "            if v == label.min():\n",
    "                ax1.text(aux.index[i], v + 100, str(v), horizontalalignment = 'center',\n",
    "                verticalalignment = 'bottom',\n",
    "                fontdict = value_font)\n",
    "    else:\n",
    "        for i, v in enumerate(label):\n",
    "            if v == aux.values[i]:\n",
    "                ax1.text(aux.index[i], v + 100, str(v), horizontalalignment = 'center',\n",
    "                verticalalignment = 'bottom',\n",
    "                fontdict = value_font)\n",
    "        \n",
    "        \n",
    "    # creating the text chart\n",
    "        \n",
    "    ax2.set(xlim = (0, 1), ylim = (0, 1))\n",
    "    ax2.text(a * (left + right), b * (bottom + top), result,\n",
    "            horizontalalignment = 'center',\n",
    "            verticalalignment = 'center',\n",
    "            fontdict = font1,\n",
    "            transform = ax2.transAxes)\n",
    "    ax2.text(c * (left + right), d * (bottom + top), label1,\n",
    "            horizontalalignment = 'center',\n",
    "            verticalalignment = 'center',\n",
    "            fontdict = font2,\n",
    "            transform = ax2.transAxes)\n",
    "        \n",
    "    # cleaning the image\n",
    "        \n",
    "    ax2.axis('off')\n",
    "    plt.show()"
   ]
  },
  {
   "cell_type": "markdown",
   "id": "polar-jefferson",
   "metadata": {},
   "source": [
    "## Obtaining the Data"
   ]
  },
  {
   "cell_type": "markdown",
   "id": "better-handbook",
   "metadata": {},
   "source": [
    "All data used in this project was obtained from the [São Paulo's State Secretariat for Public Security](http://www.ssp.sp.gov.br/transparenciassp/).\n",
    "\n",
    "For this Exploratory Data Analysis, the following files was downloaded and merged in one single file:\n",
    "\n",
    "* Downloaded Files\n",
    "    * Category - Homícidio doloso **(murder, willful homicide)**\n",
    "    * Period - Every month between Jan 2018 and Dec 2020\n",
    "\n",
    "* Repository File\n",
    "    * Path - https://github.com/ghermsen/sao_paulo_murder_eda\n",
    "    * File -\n",
    "    \n",
    "**Note: With the intent of preserving the victims' identities, I already processed the data. For this reason, I will conduct only a small data processing in this analysis.**"
   ]
  },
  {
   "cell_type": "code",
   "execution_count": 3,
   "id": "crude-stationery",
   "metadata": {
    "ExecuteTime": {
     "end_time": "2021-03-29T02:59:17.357944Z",
     "start_time": "2021-03-29T02:59:17.306185Z"
    }
   },
   "outputs": [],
   "source": [
    "# importing the data\n",
    "\n",
    "df_raw = pd.read_csv('db/dadosbo.csv', low_memory = False)"
   ]
  },
  {
   "cell_type": "markdown",
   "id": "flexible-concord",
   "metadata": {},
   "source": [
    "## Understanding the Dataset"
   ]
  },
  {
   "cell_type": "markdown",
   "id": "imported-conflict",
   "metadata": {},
   "source": [
    "Understanding the data is a fundamental step in any data science project. It will show us the variables available in our dataset and how these variables are structured. This step helps us understand the type of problem and how we will solve it."
   ]
  },
  {
   "cell_type": "markdown",
   "id": "aerial-campaign",
   "metadata": {},
   "source": [
    "### Variables' Dictionary:\n",
    "\n",
    "* `date` - the date that the murder occurred\n",
    "* `time` - the time that the murder occurred\n",
    "* `period` - the period of the day that the murder occurred\n",
    "* `city` - the city where the murder occurred\n",
    "* `region` - the administrative region that the city belongs to\n",
    "* `police_station` - the police station that registered the murder\n",
    "* `gender` - victim's gender\n",
    "* `age` - victim's age\n",
    "* `ethnicity` - victim's ethnicity (classification used by [IBGE](https://educa.ibge.gov.br/jovens/conheca-o-brasil/populacao/18319-cor-ou-raca.html))\n",
    "\n",
    "We can now check the first five entries in our dataset to better understand our data."
   ]
  },
  {
   "cell_type": "code",
   "execution_count": 4,
   "id": "placed-search",
   "metadata": {
    "ExecuteTime": {
     "end_time": "2021-03-29T02:59:17.395214Z",
     "start_time": "2021-03-29T02:59:17.360272Z"
    }
   },
   "outputs": [
    {
     "data": {
      "text/html": [
       "<div>\n",
       "<style scoped>\n",
       "    .dataframe tbody tr th:only-of-type {\n",
       "        vertical-align: middle;\n",
       "    }\n",
       "\n",
       "    .dataframe tbody tr th {\n",
       "        vertical-align: top;\n",
       "    }\n",
       "\n",
       "    .dataframe thead th {\n",
       "        text-align: right;\n",
       "    }\n",
       "</style>\n",
       "<table border=\"1\" class=\"dataframe\">\n",
       "  <thead>\n",
       "    <tr style=\"text-align: right;\">\n",
       "      <th></th>\n",
       "      <th>date</th>\n",
       "      <th>time</th>\n",
       "      <th>period</th>\n",
       "      <th>city</th>\n",
       "      <th>region</th>\n",
       "      <th>police_station</th>\n",
       "      <th>gender</th>\n",
       "      <th>age</th>\n",
       "      <th>ethnicity</th>\n",
       "    </tr>\n",
       "  </thead>\n",
       "  <tbody>\n",
       "    <tr>\n",
       "      <th>0</th>\n",
       "      <td>01/01/18</td>\n",
       "      <td>05:10:00</td>\n",
       "      <td>middle of the night</td>\n",
       "      <td>SUZANAPOLIS</td>\n",
       "      <td>Araçatuba</td>\n",
       "      <td>DEL.POL.SUZANOPOLIS</td>\n",
       "      <td>male</td>\n",
       "      <td>22</td>\n",
       "      <td>parda (multiracial)</td>\n",
       "    </tr>\n",
       "    <tr>\n",
       "      <th>1</th>\n",
       "      <td>01/01/18</td>\n",
       "      <td>09:30:00</td>\n",
       "      <td>in the morning</td>\n",
       "      <td>ARUJA</td>\n",
       "      <td>Grande São Paulo</td>\n",
       "      <td>DEL.POL.ARUJA</td>\n",
       "      <td>male</td>\n",
       "      <td>17</td>\n",
       "      <td>parda (multiracial)</td>\n",
       "    </tr>\n",
       "    <tr>\n",
       "      <th>2</th>\n",
       "      <td>01/01/18</td>\n",
       "      <td>09:30:00</td>\n",
       "      <td>in the morning</td>\n",
       "      <td>ARUJA</td>\n",
       "      <td>Grande São Paulo</td>\n",
       "      <td>DEL.POL.ARUJA</td>\n",
       "      <td>male</td>\n",
       "      <td>17</td>\n",
       "      <td>parda (multiracial)</td>\n",
       "    </tr>\n",
       "    <tr>\n",
       "      <th>3</th>\n",
       "      <td>01/01/18</td>\n",
       "      <td>21:40:00</td>\n",
       "      <td>at night</td>\n",
       "      <td>AGUDOS</td>\n",
       "      <td>Bauru</td>\n",
       "      <td>DEL.POL.AGUDOS</td>\n",
       "      <td>male</td>\n",
       "      <td>200</td>\n",
       "      <td>parda (multiracial)</td>\n",
       "    </tr>\n",
       "    <tr>\n",
       "      <th>4</th>\n",
       "      <td>01/01/18</td>\n",
       "      <td>05:00:00</td>\n",
       "      <td>middle of the night</td>\n",
       "      <td>TATUI</td>\n",
       "      <td>Sorocaba</td>\n",
       "      <td>DEL.POL.PLANTÃO TATUI</td>\n",
       "      <td>male</td>\n",
       "      <td>43</td>\n",
       "      <td>white</td>\n",
       "    </tr>\n",
       "  </tbody>\n",
       "</table>\n",
       "</div>"
      ],
      "text/plain": [
       "       date      time               period         city             region  \\\n",
       "0  01/01/18  05:10:00  middle of the night  SUZANAPOLIS          Araçatuba   \n",
       "1  01/01/18  09:30:00       in the morning        ARUJA  Grande São Paulo    \n",
       "2  01/01/18  09:30:00       in the morning        ARUJA  Grande São Paulo    \n",
       "3  01/01/18  21:40:00             at night       AGUDOS              Bauru   \n",
       "4  01/01/18  05:00:00  middle of the night        TATUI           Sorocaba   \n",
       "\n",
       "          police_station gender  age            ethnicity  \n",
       "0    DEL.POL.SUZANOPOLIS   male   22  parda (multiracial)  \n",
       "1          DEL.POL.ARUJA   male   17  parda (multiracial)  \n",
       "2          DEL.POL.ARUJA   male   17  parda (multiracial)  \n",
       "3         DEL.POL.AGUDOS   male  200  parda (multiracial)  \n",
       "4  DEL.POL.PLANTÃO TATUI   male   43                white  "
      ]
     },
     "execution_count": 4,
     "metadata": {},
     "output_type": "execute_result"
    }
   ],
   "source": [
    "# checking the first entries\n",
    "\n",
    "df_raw.head()"
   ]
  },
  {
   "cell_type": "markdown",
   "id": "numerical-greeting",
   "metadata": {},
   "source": [
    "### Dataset Size and Type of Variables"
   ]
  },
  {
   "cell_type": "markdown",
   "id": "working-influence",
   "metadata": {},
   "source": [
    "Below, you can see the size of the dataset and the type of its variables."
   ]
  },
  {
   "cell_type": "code",
   "execution_count": 5,
   "id": "introductory-trading",
   "metadata": {
    "ExecuteTime": {
     "end_time": "2021-03-29T02:59:17.413081Z",
     "start_time": "2021-03-29T02:59:17.397916Z"
    }
   },
   "outputs": [
    {
     "name": "stdout",
     "output_type": "stream",
     "text": [
      "Number of Entries:\t 11793\n",
      "Number of Variables:\t 9\n"
     ]
    },
    {
     "data": {
      "text/plain": [
       "date              object\n",
       "time              object\n",
       "period            object\n",
       "city              object\n",
       "region            object\n",
       "police_station    object\n",
       "gender            object\n",
       "age                int64\n",
       "ethnicity         object\n",
       "dtype: object"
      ]
     },
     "execution_count": 5,
     "metadata": {},
     "output_type": "execute_result"
    }
   ],
   "source": [
    "# checking dataset's size and number of variables\n",
    "\n",
    "print(f'Number of Entries:\\t {df_raw.shape[0]}')\n",
    "print(f'Number of Variables:\\t {df_raw.shape[1]}')\n",
    "\n",
    "# types of variables\n",
    "\n",
    "df_raw.dtypes"
   ]
  },
  {
   "cell_type": "markdown",
   "id": "intense-neutral",
   "metadata": {},
   "source": [
    "It can be observed that the `date` and `time` variables are `object`. As these variables represent\n",
    "time, these variables passed for a process of merging and then transformed into `datetime64[ns]`. "
   ]
  },
  {
   "cell_type": "code",
   "execution_count": 6,
   "id": "african-sellers",
   "metadata": {
    "ExecuteTime": {
     "end_time": "2021-03-29T02:59:19.766068Z",
     "start_time": "2021-03-29T02:59:17.419499Z"
    }
   },
   "outputs": [
    {
     "data": {
      "text/plain": [
       "date              datetime64[ns]\n",
       "period                    object\n",
       "city                      object\n",
       "region                    object\n",
       "police_station            object\n",
       "gender                    object\n",
       "age                        int64\n",
       "ethnicity                 object\n",
       "dtype: object"
      ]
     },
     "execution_count": 6,
     "metadata": {},
     "output_type": "execute_result"
    }
   ],
   "source": [
    "# changing type of date and time variables\n",
    "\n",
    "df_raw.date = df_raw.date.map(str) + \" \" + df_raw.time\n",
    "df_raw = df_raw.drop('time', axis = 1)\n",
    "df_raw.date = pd.to_datetime(df_raw.date)\n",
    "df_raw.dtypes"
   ]
  },
  {
   "cell_type": "markdown",
   "id": "ceramic-dialogue",
   "metadata": {},
   "source": [
    "### Cleaning the Dataset"
   ]
  },
  {
   "cell_type": "markdown",
   "id": "ranging-center",
   "metadata": {},
   "source": [
    "Looking at the Variables’ Dictionary and the type of variables presented in the dataset, it is possible to see a variable not relevant for the analysis, which is `police_station`. For a cleaner and more objective analysis, I deleted this variable."
   ]
  },
  {
   "cell_type": "code",
   "execution_count": 7,
   "id": "beginning-authority",
   "metadata": {
    "ExecuteTime": {
     "end_time": "2021-03-29T02:59:19.777163Z",
     "start_time": "2021-03-29T02:59:19.769582Z"
    }
   },
   "outputs": [],
   "source": [
    "df_raw.drop('police_station', axis = 1, inplace = True)"
   ]
  },
  {
   "cell_type": "markdown",
   "id": "inclusive-lesson",
   "metadata": {},
   "source": [
    "### Missing Values"
   ]
  },
  {
   "cell_type": "markdown",
   "id": "immune-cigarette",
   "metadata": {},
   "source": [
    "The quality of a dataset is directly related to the number of missing values. It is important to understand early on whether these null values are significant concerning the total number of entries to avoid future problems in our analysis."
   ]
  },
  {
   "cell_type": "code",
   "execution_count": 8,
   "id": "decent-repeat",
   "metadata": {
    "ExecuteTime": {
     "end_time": "2021-03-29T02:59:19.799336Z",
     "start_time": "2021-03-29T02:59:19.779991Z"
    }
   },
   "outputs": [
    {
     "data": {
      "text/plain": [
       "date         0.0\n",
       "period       0.0\n",
       "city         0.0\n",
       "region       0.0\n",
       "gender       0.0\n",
       "age          0.0\n",
       "ethnicity    0.0\n",
       "dtype: float64"
      ]
     },
     "execution_count": 8,
     "metadata": {},
     "output_type": "execute_result"
    }
   ],
   "source": [
    "# checking missing values\n",
    "\n",
    "((df_raw.isnull()).sum() / df_raw.shape[0]).sort_values(ascending = False)"
   ]
  },
  {
   "cell_type": "markdown",
   "id": "impaired-updating",
   "metadata": {},
   "source": [
    "### Feature Engineering"
   ]
  },
  {
   "cell_type": "markdown",
   "id": "joint-fitting",
   "metadata": {},
   "source": [
    "In this project, I will create variables derived from existing variables to assist future analyses. The variables will be the following:\n",
    "\n",
    "* `year` - the year that the murder occurred.\n",
    "* `month` - the month that the murder occurred.\n",
    "* `day` - the day that the murder occurred.\n",
    "* `hour` - the hour that the murder occurred.\n",
    "* `day_of_week` - the day of the week that the murder occurred.\n",
    "* `weekend` -  if the day of the week is a weekend (Saturday or Sunday), the value is equal to 1. If it is not, the value is equal to 0.\n",
    "* `age_group` - the age group that the victim belongs to.\n",
    "\n",
    "After this process, the data frame is ready for analysis."
   ]
  },
  {
   "cell_type": "code",
   "execution_count": 9,
   "id": "individual-mercury",
   "metadata": {
    "ExecuteTime": {
     "end_time": "2021-03-29T02:59:19.887154Z",
     "start_time": "2021-03-29T02:59:19.801718Z"
    }
   },
   "outputs": [
    {
     "data": {
      "text/html": [
       "<div>\n",
       "<style scoped>\n",
       "    .dataframe tbody tr th:only-of-type {\n",
       "        vertical-align: middle;\n",
       "    }\n",
       "\n",
       "    .dataframe tbody tr th {\n",
       "        vertical-align: top;\n",
       "    }\n",
       "\n",
       "    .dataframe thead th {\n",
       "        text-align: right;\n",
       "    }\n",
       "</style>\n",
       "<table border=\"1\" class=\"dataframe\">\n",
       "  <thead>\n",
       "    <tr style=\"text-align: right;\">\n",
       "      <th></th>\n",
       "      <th>date</th>\n",
       "      <th>period</th>\n",
       "      <th>city</th>\n",
       "      <th>region</th>\n",
       "      <th>gender</th>\n",
       "      <th>age</th>\n",
       "      <th>ethnicity</th>\n",
       "      <th>year</th>\n",
       "      <th>month</th>\n",
       "      <th>day</th>\n",
       "      <th>hour</th>\n",
       "      <th>day_of_week</th>\n",
       "      <th>weekend</th>\n",
       "      <th>age_group</th>\n",
       "    </tr>\n",
       "  </thead>\n",
       "  <tbody>\n",
       "    <tr>\n",
       "      <th>6012</th>\n",
       "      <td>2019-06-28 06:33:00</td>\n",
       "      <td>in the morning</td>\n",
       "      <td>SANTOS</td>\n",
       "      <td>Santos</td>\n",
       "      <td>male</td>\n",
       "      <td>86</td>\n",
       "      <td>parda (multiracial)</td>\n",
       "      <td>2019</td>\n",
       "      <td>6</td>\n",
       "      <td>28</td>\n",
       "      <td>6</td>\n",
       "      <td>Friday</td>\n",
       "      <td>0</td>\n",
       "      <td>70+</td>\n",
       "    </tr>\n",
       "  </tbody>\n",
       "</table>\n",
       "</div>"
      ],
      "text/plain": [
       "                    date          period    city  region gender  age  \\\n",
       "6012 2019-06-28 06:33:00  in the morning  SANTOS  Santos   male   86   \n",
       "\n",
       "                ethnicity  year  month  day  hour day_of_week  weekend  \\\n",
       "6012  parda (multiracial)  2019      6   28     6      Friday        0   \n",
       "\n",
       "     age_group  \n",
       "6012       70+  "
      ]
     },
     "execution_count": 9,
     "metadata": {},
     "output_type": "execute_result"
    }
   ],
   "source": [
    "# feature engineering for year, month, day, hour, day_of_week and weekend variables\n",
    "\n",
    "df_raw['year'] = df_raw.date.dt.year\n",
    "df_raw['month'] = df_raw.date.dt.month\n",
    "df_raw['day'] = df_raw.date.dt.day\n",
    "df_raw['hour'] = df_raw.date.dt.hour\n",
    "df_raw['day_of_week'] = df_raw.date.dt.day_name()\n",
    "df_raw['weekend'] = 0\n",
    "df_raw.loc[(df_raw.day_of_week == \"Saturday\") | (df_raw.day_of_week == \"Sunday\"), 'weekend'] = 1\n",
    "\n",
    "# feature engineering for age_group variable\n",
    "\n",
    "bins = [0, 10, 20, 30, 40, 50, 60, 70, 120]\n",
    "labels = ['0-9', '10-19', '20-29', '30-39', '40-49', '50-59', '60-69', '70+']\n",
    "df_raw['age_group'] = pd.cut(df_raw.age, bins, labels = labels, include_lowest = True, right = False)\n",
    "df_raw['age_group'] = df_raw['age_group'].cat.add_categories('unknown').fillna('unknown')\n",
    "df_raw.sample()"
   ]
  },
  {
   "cell_type": "markdown",
   "id": "downtown-housing",
   "metadata": {},
   "source": [
    "## Data Analysis"
   ]
  },
  {
   "cell_type": "markdown",
   "id": "other-lexington",
   "metadata": {},
   "source": [
    "The data analysis will address territorial, social and temporal aspects:\n",
    "\n",
    "- **Territorial**\n",
    "    - São Paulo's State\n",
    "        1. What is the total number of victims of murder in São Paulo's state during 2018, 2019, and 2020?\n",
    "        2. What is the total change of victims of murder between the years analyzed?\n",
    "    - Administrative Regions\n",
    "        1. What is the distribution of the number of victims of murder among the different regions of São Paulo's state?\n",
    "        2. What is the total change of victims of murder among the regions of São Paulo's state between the years analyzed?\n",
    "- **Social**\n",
    "    - Gender\n",
    "        1. What is the leading gender of the victims?\n",
    "        2. What is the percentual difference in the victims of murder between the years by gender?\n",
    "    - Ethnicity\n",
    "        1. What is the leading ethnic group of the victims?\n",
    "        2. What is the percentual difference in the victims of murder between the years by ethnic group?\n",
    "    - Age Group\n",
    "        1. What is the leading age group of the victims?\n",
    "        2. What is the percentual difference in the victims of murder between the years by age group?\n",
    "    - Victims' Profile\n",
    "        1. What are the main profiles of male and female victims?\n",
    "- **Temporal**\n",
    "    - What is the month with the most victims of murder?\n",
    "    - What is the day with the most victims of murder?\n",
    "    - Which period of the day has more victims of murder?\n",
    "    - What is the hour of the day with the most victims of muder? Are there differences between the hours on weekdays and weekends?"
   ]
  },
  {
   "cell_type": "code",
   "execution_count": 10,
   "id": "oriented-potential",
   "metadata": {
    "ExecuteTime": {
     "end_time": "2021-03-29T02:59:19.894758Z",
     "start_time": "2021-03-29T02:59:19.889848Z"
    }
   },
   "outputs": [],
   "source": [
    "df = df_raw.copy()"
   ]
  },
  {
   "cell_type": "markdown",
   "id": "operating-recording",
   "metadata": {},
   "source": [
    "### Territorial Analysis"
   ]
  },
  {
   "cell_type": "markdown",
   "id": "retained-brass",
   "metadata": {},
   "source": [
    "The state of São Paulo has a total size of 248,209 km², and if we compare the size of the state of São Paulo with a country, it would be slightly larger than the United Kingdom, which has 242,495 km². According to [SEADE](http://www.imp.seade.gov.br/frontend/#/tabelas), in 2020, São Paulo's state had 44.63 million inhabitants in 645 municipalities.\n",
    "\n",
    "Our data show that 505 cities registered victims of murder in the state during the analyzed period, and only 140 cities did not register any victim of murder in this period."
   ]
  },
  {
   "cell_type": "code",
   "execution_count": 11,
   "id": "arbitrary-prime",
   "metadata": {
    "ExecuteTime": {
     "end_time": "2021-03-29T02:59:20.050326Z",
     "start_time": "2021-03-29T02:59:19.897570Z"
    }
   },
   "outputs": [
    {
     "name": "stdout",
     "output_type": "stream",
     "text": [
      "Number of cities in São Paulo's State with victims of murder: 505\n"
     ]
    },
    {
     "data": {
      "image/png": "[encoded data removed]",
      "text/plain": [
       "<Figure size 432x144 with 1 Axes>"
      ]
     },
     "metadata": {
      "needs_background": "light"
     },
     "output_type": "display_data"
    }
   ],
   "source": [
    "# checking the number of cities with victims of murder\n",
    "\n",
    "print(f\"Number of cities in São Paulo's State with victims of murder: {df.city.unique().shape[0]}\")\n",
    "\n",
    "# making the text\n",
    "\n",
    "make_text(1,\n",
    "          1,\n",
    "          1,\n",
    "          df.city.unique().shape[0],\n",
    "          'out of 645 cities registered victims of murder')"
   ]
  },
  {
   "cell_type": "markdown",
   "id": "architectural-royalty",
   "metadata": {},
   "source": [
    "### State of São Paulo"
   ]
  },
  {
   "cell_type": "markdown",
   "id": "expensive-caribbean",
   "metadata": {},
   "source": [
    "As seen above, in São Paulo, 505 cities registered victims of murder in the analyzed period. When we check the amount of victims, we get a total of 11,793 victims of murder.\n",
    "\n",
    "An analysis year by year shows that the numbers have been falling over the last three years, with a drop of 3.65% in 2019 and a drop of 4.03% in 2020, resulting in a decrease of 7.52% of the number of victims of murder. "
   ]
  },
  {
   "cell_type": "code",
   "execution_count": 12,
   "id": "durable-praise",
   "metadata": {
    "ExecuteTime": {
     "end_time": "2021-03-29T02:59:20.449960Z",
     "start_time": "2021-03-29T02:59:20.054066Z"
    }
   },
   "outputs": [
    {
     "name": "stdout",
     "output_type": "stream",
     "text": [
      "Total number of victims of murder:\t 11793\n",
      "        year\n",
      "2018    nan%\n",
      "2019  -3.65%\n",
      "2020  -4.02%\n",
      "----------\n",
      "Total change in the number of victims in the period -7.52%\n"
     ]
    },
    {
     "data": {
      "image/png": "[encoded data removed]",
      "text/plain": [
       "<Figure size 432x144 with 1 Axes>"
      ]
     },
     "metadata": {
      "needs_background": "light"
     },
     "output_type": "display_data"
    },
    {
     "data": {
      "image/png": "[encoded data removed]",
      "text/plain": [
       "<Figure size 720x288 with 2 Axes>"
      ]
     },
     "metadata": {
      "needs_background": "light"
     },
     "output_type": "display_data"
    }
   ],
   "source": [
    "# checking the total number of victims of murder\n",
    "\n",
    "print(f'Total number of victims of murder:\\t {df.shape[0]}')\n",
    "\n",
    "# making the text\n",
    "\n",
    "make_text(1,\n",
    "          1,\n",
    "          1,\n",
    "          df.shape[0],\n",
    "          'victims of murder')\n",
    "\n",
    "# checking the change in victims of murder per year and the total change\n",
    "\n",
    "print((round(((df.year.value_counts().diff()) / df.year.value_counts().shift())*100, 2)).to_frame().astype(str) + '%')\n",
    "print('----------')\n",
    "print('Total change in the number of victims in the period ' + str(round(((df.year.value_counts().values[2] - df.year.value_counts().values[0]) / df.year.value_counts().values[0])*100,2))+'%')\n",
    "year_change = (str(round(((df.year.value_counts().values[2] - df.year.value_counts().values[0]) / df.year.value_counts().values[0])*100,2)) + '%')\n",
    "\n",
    "# making the chart and the text\n",
    "\n",
    "aux_year = df.year.value_counts().to_frame('Total of Victims')\n",
    "label_year = aux_year['Total of Victims']\n",
    "information_year = 'less victims of murder since 2018'\n",
    "\n",
    "make_chart_and_text(aux_year,\n",
    "                    aux_year['Total of Victims'],\n",
    "                    'Total of Victims',\n",
    "                    year_change,\n",
    "                    information_year,\n",
    "                    min_max = '',\n",
    "                    min_max_all = 'min',\n",
    "                    a = 0.7,\n",
    "                    b = 0.5,\n",
    "                    c = 0.7,\n",
    "                    d = 0.3)"
   ]
  },
  {
   "cell_type": "markdown",
   "id": "secondary-entity",
   "metadata": {},
   "source": [
    "### Administrative Regions of São Paulo"
   ]
  },
  {
   "cell_type": "markdown",
   "id": "differential-rwanda",
   "metadata": {},
   "source": [
    "Above, I carried out an analysis of the numbers throughout the whole state of São Paulo. However, according to police reports of the Secretary of Public Security of the State of São Paulo, São Paulo's state is divided into 12 regions.\n",
    "\n",
    "Now that we know all the administrative regions in São Paulo's state, it is possible to see a big difference in these regions' total number of victims. This difference occurs because some regions are much more populous than others.\n",
    "\n",
    "The image on the left side shows the difference between the total numbers of the Capital region and the Presidente Prudente region. However, the Capital region has approximately 12 million inhabitants, whereas the Presidente Prudente region has around 860 thousand inhabitants.\n",
    "\n",
    "For this reason, in the analysis by region, an analysis of the percentage value will show us much more relevant information than an analysis of the total values by region.\n",
    "\n",
    "In the percentage results, we noticed three regions (Piracicaba, Bauru, and Araçatuba) where the number of victims of murder has increased in recent years. In contrast, in the other regions, the number of victims has fallen. The regions with the most significant declines are Presidente Prudente, São José do Rio Preto and Santos."
   ]
  },
  {
   "cell_type": "code",
   "execution_count": 13,
   "id": "brave-tunnel",
   "metadata": {
    "ExecuteTime": {
     "end_time": "2021-03-29T02:59:20.475738Z",
     "start_time": "2021-03-29T02:59:20.453230Z"
    }
   },
   "outputs": [
    {
     "data": {
      "text/plain": [
       "array(['Araçatuba', 'Bauru', 'Campinas', 'Capital', 'Grande São Paulo ',\n",
       "       'Piracicaba', 'Presidente Prudente', 'Ribeirão Preto', 'Santos',\n",
       "       'Sorocaba', 'São José do Rio Preto', 'São José dos Campos'],\n",
       "      dtype=object)"
      ]
     },
     "execution_count": 13,
     "metadata": {},
     "output_type": "execute_result"
    }
   ],
   "source": [
    "# regions of são paulo state\n",
    "\n",
    "df.region.sort_values(ascending = True).unique()"
   ]
  },
  {
   "cell_type": "code",
   "execution_count": 14,
   "id": "disturbed-industry",
   "metadata": {
    "ExecuteTime": {
     "end_time": "2021-03-29T02:59:20.500248Z",
     "start_time": "2021-03-29T02:59:20.479423Z"
    }
   },
   "outputs": [
    {
     "data": {
      "text/html": [
       "<div>\n",
       "<style scoped>\n",
       "    .dataframe tbody tr th:only-of-type {\n",
       "        vertical-align: middle;\n",
       "    }\n",
       "\n",
       "    .dataframe tbody tr th {\n",
       "        vertical-align: top;\n",
       "    }\n",
       "\n",
       "    .dataframe thead th {\n",
       "        text-align: right;\n",
       "    }\n",
       "</style>\n",
       "<table border=\"1\" class=\"dataframe\">\n",
       "  <thead>\n",
       "    <tr style=\"text-align: right;\">\n",
       "      <th></th>\n",
       "      <th>Total Number of Victims</th>\n",
       "    </tr>\n",
       "  </thead>\n",
       "  <tbody>\n",
       "    <tr>\n",
       "      <th>Capital</th>\n",
       "      <td>3156</td>\n",
       "    </tr>\n",
       "    <tr>\n",
       "      <th>Presidente Prudente</th>\n",
       "      <td>188</td>\n",
       "    </tr>\n",
       "  </tbody>\n",
       "</table>\n",
       "</div>"
      ],
      "text/plain": [
       "                     Total Number of Victims\n",
       "Capital                                 3156\n",
       "Presidente Prudente                      188"
      ]
     },
     "execution_count": 14,
     "metadata": {},
     "output_type": "execute_result"
    }
   ],
   "source": [
    "# regions with the max and min total number of victims\n",
    "\n",
    "df_region = df.region.value_counts().to_frame()\n",
    "df_region.columns = ['Total Number of Victims']\n",
    "df_region.iloc[[0,-1]]"
   ]
  },
  {
   "cell_type": "code",
   "execution_count": 15,
   "id": "affecting-committee",
   "metadata": {
    "ExecuteTime": {
     "end_time": "2021-03-29T02:59:20.569609Z",
     "start_time": "2021-03-29T02:59:20.503226Z"
    },
    "code_folding": []
   },
   "outputs": [
    {
     "data": {
      "text/html": [
       "<div>\n",
       "<style scoped>\n",
       "    .dataframe tbody tr th:only-of-type {\n",
       "        vertical-align: middle;\n",
       "    }\n",
       "\n",
       "    .dataframe tbody tr th {\n",
       "        vertical-align: top;\n",
       "    }\n",
       "\n",
       "    .dataframe thead th {\n",
       "        text-align: right;\n",
       "    }\n",
       "</style>\n",
       "<table border=\"1\" class=\"dataframe\">\n",
       "  <thead>\n",
       "    <tr style=\"text-align: right;\">\n",
       "      <th></th>\n",
       "      <th>2018</th>\n",
       "      <th>2019</th>\n",
       "      <th>2020</th>\n",
       "    </tr>\n",
       "  </thead>\n",
       "  <tbody>\n",
       "    <tr>\n",
       "      <th>Capital</th>\n",
       "      <td>1091</td>\n",
       "      <td>1031</td>\n",
       "      <td>1034</td>\n",
       "    </tr>\n",
       "    <tr>\n",
       "      <th>Grande São Paulo</th>\n",
       "      <td>871</td>\n",
       "      <td>773</td>\n",
       "      <td>847</td>\n",
       "    </tr>\n",
       "    <tr>\n",
       "      <th>São José dos Campos</th>\n",
       "      <td>394</td>\n",
       "      <td>385</td>\n",
       "      <td>375</td>\n",
       "    </tr>\n",
       "    <tr>\n",
       "      <th>Campinas</th>\n",
       "      <td>326</td>\n",
       "      <td>353</td>\n",
       "      <td>273</td>\n",
       "    </tr>\n",
       "    <tr>\n",
       "      <th>Piracicaba</th>\n",
       "      <td>270</td>\n",
       "      <td>258</td>\n",
       "      <td>279</td>\n",
       "    </tr>\n",
       "    <tr>\n",
       "      <th>Ribeirão Preto</th>\n",
       "      <td>274</td>\n",
       "      <td>277</td>\n",
       "      <td>219</td>\n",
       "    </tr>\n",
       "    <tr>\n",
       "      <th>Sorocaba</th>\n",
       "      <td>247</td>\n",
       "      <td>252</td>\n",
       "      <td>217</td>\n",
       "    </tr>\n",
       "    <tr>\n",
       "      <th>Santos</th>\n",
       "      <td>248</td>\n",
       "      <td>250</td>\n",
       "      <td>197</td>\n",
       "    </tr>\n",
       "    <tr>\n",
       "      <th>Bauru</th>\n",
       "      <td>118</td>\n",
       "      <td>116</td>\n",
       "      <td>124</td>\n",
       "    </tr>\n",
       "    <tr>\n",
       "      <th>São José do Rio Preto</th>\n",
       "      <td>108</td>\n",
       "      <td>99</td>\n",
       "      <td>85</td>\n",
       "    </tr>\n",
       "    <tr>\n",
       "      <th>Araçatuba</th>\n",
       "      <td>67</td>\n",
       "      <td>73</td>\n",
       "      <td>74</td>\n",
       "    </tr>\n",
       "    <tr>\n",
       "      <th>Presidente Prudente</th>\n",
       "      <td>69</td>\n",
       "      <td>67</td>\n",
       "      <td>52</td>\n",
       "    </tr>\n",
       "  </tbody>\n",
       "</table>\n",
       "</div>"
      ],
      "text/plain": [
       "                       2018  2019  2020\n",
       "Capital                1091  1031  1034\n",
       "Grande São Paulo        871   773   847\n",
       "São José dos Campos     394   385   375\n",
       "Campinas                326   353   273\n",
       "Piracicaba              270   258   279\n",
       "Ribeirão Preto          274   277   219\n",
       "Sorocaba                247   252   217\n",
       "Santos                  248   250   197\n",
       "Bauru                   118   116   124\n",
       "São José do Rio Preto   108    99    85\n",
       "Araçatuba                67    73    74\n",
       "Presidente Prudente      69    67    52"
      ]
     },
     "execution_count": 15,
     "metadata": {},
     "output_type": "execute_result"
    }
   ],
   "source": [
    "# change in the number of victims per year per region\n",
    "\n",
    "df_region_year = df_region\n",
    "\n",
    "for year in df.year.unique():\n",
    "    df_region_year[year] = df.groupby('region')['year'].apply(lambda x:\\\n",
    "                                     (x == year).sum())\n",
    "\n",
    "df_region_year = df_region_year.drop(columns = ['Total Number of Victims'])\n",
    "df_region_year"
   ]
  },
  {
   "cell_type": "code",
   "execution_count": 16,
   "id": "eligible-slide",
   "metadata": {
    "ExecuteTime": {
     "end_time": "2021-03-29T02:59:20.599981Z",
     "start_time": "2021-03-29T02:59:20.572478Z"
    }
   },
   "outputs": [
    {
     "data": {
      "text/html": [
       "<div>\n",
       "<style scoped>\n",
       "    .dataframe tbody tr th:only-of-type {\n",
       "        vertical-align: middle;\n",
       "    }\n",
       "\n",
       "    .dataframe tbody tr th {\n",
       "        vertical-align: top;\n",
       "    }\n",
       "\n",
       "    .dataframe thead th {\n",
       "        text-align: right;\n",
       "    }\n",
       "</style>\n",
       "<table border=\"1\" class=\"dataframe\">\n",
       "  <thead>\n",
       "    <tr style=\"text-align: right;\">\n",
       "      <th></th>\n",
       "      <th>2018</th>\n",
       "      <th>2019</th>\n",
       "      <th>2020</th>\n",
       "    </tr>\n",
       "  </thead>\n",
       "  <tbody>\n",
       "    <tr>\n",
       "      <th>Capital</th>\n",
       "      <td>NaN</td>\n",
       "      <td>-5.50</td>\n",
       "      <td>0.29</td>\n",
       "    </tr>\n",
       "    <tr>\n",
       "      <th>Grande São Paulo</th>\n",
       "      <td>NaN</td>\n",
       "      <td>-11.25</td>\n",
       "      <td>9.57</td>\n",
       "    </tr>\n",
       "    <tr>\n",
       "      <th>São José dos Campos</th>\n",
       "      <td>NaN</td>\n",
       "      <td>-2.28</td>\n",
       "      <td>-2.60</td>\n",
       "    </tr>\n",
       "    <tr>\n",
       "      <th>Campinas</th>\n",
       "      <td>NaN</td>\n",
       "      <td>8.28</td>\n",
       "      <td>-22.66</td>\n",
       "    </tr>\n",
       "    <tr>\n",
       "      <th>Piracicaba</th>\n",
       "      <td>NaN</td>\n",
       "      <td>-4.44</td>\n",
       "      <td>8.14</td>\n",
       "    </tr>\n",
       "    <tr>\n",
       "      <th>Ribeirão Preto</th>\n",
       "      <td>NaN</td>\n",
       "      <td>1.09</td>\n",
       "      <td>-20.94</td>\n",
       "    </tr>\n",
       "    <tr>\n",
       "      <th>Sorocaba</th>\n",
       "      <td>NaN</td>\n",
       "      <td>2.02</td>\n",
       "      <td>-13.89</td>\n",
       "    </tr>\n",
       "    <tr>\n",
       "      <th>Santos</th>\n",
       "      <td>NaN</td>\n",
       "      <td>0.81</td>\n",
       "      <td>-21.20</td>\n",
       "    </tr>\n",
       "    <tr>\n",
       "      <th>Bauru</th>\n",
       "      <td>NaN</td>\n",
       "      <td>-1.69</td>\n",
       "      <td>6.90</td>\n",
       "    </tr>\n",
       "    <tr>\n",
       "      <th>São José do Rio Preto</th>\n",
       "      <td>NaN</td>\n",
       "      <td>-8.33</td>\n",
       "      <td>-14.14</td>\n",
       "    </tr>\n",
       "    <tr>\n",
       "      <th>Araçatuba</th>\n",
       "      <td>NaN</td>\n",
       "      <td>8.96</td>\n",
       "      <td>1.37</td>\n",
       "    </tr>\n",
       "    <tr>\n",
       "      <th>Presidente Prudente</th>\n",
       "      <td>NaN</td>\n",
       "      <td>-2.90</td>\n",
       "      <td>-22.39</td>\n",
       "    </tr>\n",
       "  </tbody>\n",
       "</table>\n",
       "</div>"
      ],
      "text/plain": [
       "                       2018   2019   2020\n",
       "Capital                 NaN  -5.50   0.29\n",
       "Grande São Paulo        NaN -11.25   9.57\n",
       "São José dos Campos     NaN  -2.28  -2.60\n",
       "Campinas                NaN   8.28 -22.66\n",
       "Piracicaba              NaN  -4.44   8.14\n",
       "Ribeirão Preto          NaN   1.09 -20.94\n",
       "Sorocaba                NaN   2.02 -13.89\n",
       "Santos                  NaN   0.81 -21.20\n",
       "Bauru                   NaN  -1.69   6.90\n",
       "São José do Rio Preto   NaN  -8.33 -14.14\n",
       "Araçatuba               NaN   8.96   1.37\n",
       "Presidente Prudente     NaN  -2.90 -22.39"
      ]
     },
     "execution_count": 16,
     "metadata": {},
     "output_type": "execute_result"
    }
   ],
   "source": [
    "# percentange chance in the number of victims per year and region\n",
    "\n",
    "df_regions_change_year = df_region_year.T\n",
    "df_regions_change_year = (round(df_regions_change_year.pct_change(), 4) * 100).T\n",
    "df_regions_change_year"
   ]
  },
  {
   "cell_type": "code",
   "execution_count": 17,
   "id": "attempted-format",
   "metadata": {
    "ExecuteTime": {
     "end_time": "2021-03-29T02:59:21.193610Z",
     "start_time": "2021-03-29T02:59:20.602540Z"
    }
   },
   "outputs": [
    {
     "data": {
      "image/png": "[encoded data removed]",
      "text/plain": [
       "<Figure size 1080x504 with 6 Axes>"
      ]
     },
     "metadata": {
      "needs_background": "light"
     },
     "output_type": "display_data"
    }
   ],
   "source": [
    "# total change per region\n",
    "\n",
    "df_region_total_change = df_region_year.copy()\n",
    "df_region_total_change['Total Change'] = round(((df_region_total_change[2020] - df_region_total_change[2018]) / df_region_total_change[2018]) * 100, 2)\n",
    "df_region_total_change.drop(columns = [2018, 2019, 2020], inplace = True)\n",
    "df_region_total_change = df_region_total_change.sort_values('Total Change', ascending = True).astype(str)\n",
    "df_region_total_change['Total Change'] = df_region_total_change['Total Change'] + '%'\n",
    "df_region_total_change\n",
    "\n",
    "# creating texts\n",
    "\n",
    "title1 = 'Regions with Highest Falls\\nin Number of Victims'\n",
    "title2 = 'Regions with Increasing\\nin Number of Victims'\n",
    "max_min_values_region_total_change = [0, -1, 1, -2, 2, -3]\n",
    "result_region = []\n",
    "label_region = []\n",
    "for value in max_min_values_region_total_change:\n",
    "    result_region.append(df_region_total_change['Total Change'][value])\n",
    "    label_region.append(df_region_total_change.index[value]) \n",
    "\n",
    "make_text(3,\n",
    "          2,\n",
    "          6,\n",
    "          result_region,\n",
    "          label = label_region,\n",
    "          font1_size = 60,\n",
    "          font2_size = 25,\n",
    "          title1 = title1,\n",
    "          title2 = title2,\n",
    "          font_title = 25,\n",
    "          figsize = (15,7))"
   ]
  },
  {
   "cell_type": "markdown",
   "id": "twelve-questionnaire",
   "metadata": {},
   "source": [
    "## Social Analysis"
   ]
  },
  {
   "cell_type": "markdown",
   "id": "derived-generator",
   "metadata": {},
   "source": [
    "Before carrying out an analysis based on social aspects, it is essential to understand how the São Paulo state's population is composed. Usually, in Brazil, a census is carried out every ten years, and the last census was carried out only in 2010 due to the COVID-19 pandemic. Thus, the numbers referring to population gender, ethnicity, and age grouping are unofficial projections."
   ]
  },
  {
   "cell_type": "markdown",
   "id": "fallen-mattress",
   "metadata": {},
   "source": [
    "### Gender"
   ]
  },
  {
   "cell_type": "markdown",
   "id": "legal-argentina",
   "metadata": {},
   "source": [
    "According to SEADE, in 2020, São Paulo's population was 44,639,899 inhabitants, 48.67% men and 51.33% women.\n",
    "\n",
    "During the period analysed, we can see that 10,388 victims of homicide are male, and 1,405 victims are female in São Paulo's state.\n",
    "\n",
    "Through the total numbers of victims by gender, it is possible to see that even though the percentage of the female population in São Paulo is higher than the male population, there is a big difference in the number of victims of homicide in the state, with 88% of male victims and 11% of female victims.\n",
    "\n",
    "However, to understand better the evolution in the number of victims per gender, I analyzed the number of victims per year. The analysis showed that the number of victims from both genders has been falling year after year. At the end of the period, the number of female victims showed a significant drop of 15.98% against a drop of 6.92% of the number of male victims."
   ]
  },
  {
   "cell_type": "code",
   "execution_count": 46,
   "id": "passive-employee",
   "metadata": {
    "ExecuteTime": {
     "end_time": "2021-03-29T03:06:38.996000Z",
     "start_time": "2021-03-29T03:06:38.683269Z"
    }
   },
   "outputs": [
    {
     "name": "stdout",
     "output_type": "stream",
     "text": [
      "Total Number of Male Victims:\t 10388\n",
      "Total Number of Female Victims:\t 1405\n"
     ]
    },
    {
     "data": {
      "image/png": "[encoded data removed]",
      "text/plain": [
       "<Figure size 432x288 with 2 Axes>"
      ]
     },
     "metadata": {
      "needs_background": "light"
     },
     "output_type": "display_data"
    }
   ],
   "source": [
    "# checking the total number of victims by gender\n",
    "\n",
    "df_gender = df.gender.value_counts().to_frame()\n",
    "\n",
    "print(f'Total Number of Male Victims:\\t {df_gender.iat[0, 0]}')\n",
    "print(f'Total Number of Female Victims:\\t {df_gender.iat[1, 0]}')\n",
    "\n",
    "# creating the text\n",
    "\n",
    "result_gender = [df_gender.iat[0, 0], df_gender.iat[1, 0]]\n",
    "label_gender = ['total number of male victims', 'total number of female victims']\n",
    "make_text(2,\n",
    "          1,\n",
    "          2,\n",
    "          result_gender,\n",
    "          label_gender,\n",
    "          figsize = (6,4))"
   ]
  },
  {
   "cell_type": "code",
   "execution_count": 19,
   "id": "recognized-hindu",
   "metadata": {
    "ExecuteTime": {
     "end_time": "2021-03-29T02:59:21.415293Z",
     "start_time": "2021-03-29T02:59:21.403089Z"
    }
   },
   "outputs": [
    {
     "name": "stdout",
     "output_type": "stream",
     "text": [
      "Percentage of male victims:\t 88.09%\n",
      "Percentage of female victims:\t 11.91%\n"
     ]
    }
   ],
   "source": [
    "# checking the percentage of victims by gender\n",
    "\n",
    "print(f'Percentage of male victims:\\t {str(round((df_gender.iat[0, 0] / df.shape[0])*100, 2))}' + '%')\n",
    "print(f'Percentage of female victims:\\t {str(round((df_gender.iat[1, 0] / df.shape[0])*100, 2))}' + '%')"
   ]
  },
  {
   "cell_type": "code",
   "execution_count": 20,
   "id": "appreciated-worcester",
   "metadata": {
    "ExecuteTime": {
     "end_time": "2021-03-29T02:59:22.409522Z",
     "start_time": "2021-03-29T02:59:21.418803Z"
    }
   },
   "outputs": [
    {
     "data": {
      "image/png": "[encoded data removed]",
      "text/plain": [
       "<Waffle size 1080x432 with 1 Axes>"
      ]
     },
     "metadata": {
      "needs_background": "light"
     },
     "output_type": "display_data"
    }
   ],
   "source": [
    "# creating waffle chart for victims\n",
    "\n",
    "data = {'male':round((df_gender.iat[0, 0] / df.shape[0])*100, 2),\n",
    "       'female':round((df_gender.iat[1, 0] / df.shape[0])*100, 2)}\n",
    "font_title = {'family': 'sans-serif', 'color':'#424949','weight': 'normal','size': 25}\n",
    "\n",
    "fig = plt.figure(\n",
    "      FigureClass = Waffle,\n",
    "      rows = 5,\n",
    "      columns = 20,\n",
    "      colors = ('#FF691E', '#515A5A'),\n",
    "      values = data, icons = ['male', 'female'], icon_size = 23,\n",
    "      title = {'label':'Percentage of Male and Female Victims',\n",
    "               'loc': 'center', 'fontdict':font_title},\n",
    "      labels = [f\"{k} ({round(v / sum(data.values()) * 100)}%)\" for k, v in data.items()],\n",
    "      legend = {        \n",
    "        'loc': 'lower left',\n",
    "        'bbox_to_anchor': (0, -0.25),\n",
    "        'ncol': len(data),\n",
    "        'framealpha': 0,\n",
    "        'fontsize': 15\n",
    "    },\n",
    "      icon_legend = True,\n",
    "      figsize=(15,6)\n",
    ")\n",
    "fig.set_tight_layout(False)\n",
    "plt.show();"
   ]
  },
  {
   "cell_type": "code",
   "execution_count": 21,
   "id": "diagnostic-position",
   "metadata": {
    "ExecuteTime": {
     "end_time": "2021-03-29T02:59:22.449138Z",
     "start_time": "2021-03-29T02:59:22.412541Z"
    }
   },
   "outputs": [
    {
     "data": {
      "text/html": [
       "<div>\n",
       "<style scoped>\n",
       "    .dataframe tbody tr th:only-of-type {\n",
       "        vertical-align: middle;\n",
       "    }\n",
       "\n",
       "    .dataframe tbody tr th {\n",
       "        vertical-align: top;\n",
       "    }\n",
       "\n",
       "    .dataframe thead th {\n",
       "        text-align: right;\n",
       "    }\n",
       "</style>\n",
       "<table border=\"1\" class=\"dataframe\">\n",
       "  <thead>\n",
       "    <tr style=\"text-align: right;\">\n",
       "      <th></th>\n",
       "      <th>2018</th>\n",
       "      <th>2019</th>\n",
       "      <th>2020</th>\n",
       "    </tr>\n",
       "  </thead>\n",
       "  <tbody>\n",
       "    <tr>\n",
       "      <th>male</th>\n",
       "      <td>3576</td>\n",
       "      <td>3462</td>\n",
       "      <td>3350</td>\n",
       "    </tr>\n",
       "    <tr>\n",
       "      <th>female</th>\n",
       "      <td>507</td>\n",
       "      <td>472</td>\n",
       "      <td>426</td>\n",
       "    </tr>\n",
       "  </tbody>\n",
       "</table>\n",
       "</div>"
      ],
      "text/plain": [
       "        2018  2019  2020\n",
       "male    3576  3462  3350\n",
       "female   507   472   426"
      ]
     },
     "execution_count": 21,
     "metadata": {},
     "output_type": "execute_result"
    }
   ],
   "source": [
    "# checking the total number of victims per year by gender\n",
    "\n",
    "df_gender_year = df_gender.copy()\n",
    "\n",
    "for year in df.year.unique():\n",
    "    df_gender_year[year] = df.groupby('gender')['year'].apply(lambda x: \\\n",
    "                               (x == year).sum())\n",
    "\n",
    "df_gender_year = df_gender_year.drop(columns = ['gender'])\n",
    "df_gender_year"
   ]
  },
  {
   "cell_type": "code",
   "execution_count": 22,
   "id": "instructional-hazard",
   "metadata": {
    "ExecuteTime": {
     "end_time": "2021-03-29T02:59:22.490378Z",
     "start_time": "2021-03-29T02:59:22.452485Z"
    }
   },
   "outputs": [
    {
     "data": {
      "text/html": [
       "<div>\n",
       "<style scoped>\n",
       "    .dataframe tbody tr th:only-of-type {\n",
       "        vertical-align: middle;\n",
       "    }\n",
       "\n",
       "    .dataframe tbody tr th {\n",
       "        vertical-align: top;\n",
       "    }\n",
       "\n",
       "    .dataframe thead th {\n",
       "        text-align: right;\n",
       "    }\n",
       "</style>\n",
       "<table border=\"1\" class=\"dataframe\">\n",
       "  <thead>\n",
       "    <tr style=\"text-align: right;\">\n",
       "      <th></th>\n",
       "      <th>2018</th>\n",
       "      <th>2019</th>\n",
       "      <th>2020</th>\n",
       "    </tr>\n",
       "  </thead>\n",
       "  <tbody>\n",
       "    <tr>\n",
       "      <th>male</th>\n",
       "      <td>NaN</td>\n",
       "      <td>-3.19</td>\n",
       "      <td>-3.24</td>\n",
       "    </tr>\n",
       "    <tr>\n",
       "      <th>female</th>\n",
       "      <td>NaN</td>\n",
       "      <td>-6.90</td>\n",
       "      <td>-9.75</td>\n",
       "    </tr>\n",
       "  </tbody>\n",
       "</table>\n",
       "</div>"
      ],
      "text/plain": [
       "        2018  2019  2020\n",
       "male     NaN -3.19 -3.24\n",
       "female   NaN -6.90 -9.75"
      ]
     },
     "execution_count": 22,
     "metadata": {},
     "output_type": "execute_result"
    }
   ],
   "source": [
    "# checking the change by year\n",
    "\n",
    "df_gender_change_year = df_gender_year.T\n",
    "df_gender_change_year = (round(df_gender_change_year.pct_change(),4)*100).T\n",
    "df_gender_change_year"
   ]
  },
  {
   "cell_type": "code",
   "execution_count": 23,
   "id": "fifty-indicator",
   "metadata": {
    "ExecuteTime": {
     "end_time": "2021-03-29T02:59:22.526546Z",
     "start_time": "2021-03-29T02:59:22.494470Z"
    }
   },
   "outputs": [
    {
     "data": {
      "text/html": [
       "<div>\n",
       "<style scoped>\n",
       "    .dataframe tbody tr th:only-of-type {\n",
       "        vertical-align: middle;\n",
       "    }\n",
       "\n",
       "    .dataframe tbody tr th {\n",
       "        vertical-align: top;\n",
       "    }\n",
       "\n",
       "    .dataframe thead th {\n",
       "        text-align: right;\n",
       "    }\n",
       "</style>\n",
       "<table border=\"1\" class=\"dataframe\">\n",
       "  <thead>\n",
       "    <tr style=\"text-align: right;\">\n",
       "      <th></th>\n",
       "      <th>Total Change</th>\n",
       "    </tr>\n",
       "  </thead>\n",
       "  <tbody>\n",
       "    <tr>\n",
       "      <th>female</th>\n",
       "      <td>-15.98%</td>\n",
       "    </tr>\n",
       "    <tr>\n",
       "      <th>male</th>\n",
       "      <td>-6.32%</td>\n",
       "    </tr>\n",
       "  </tbody>\n",
       "</table>\n",
       "</div>"
      ],
      "text/plain": [
       "       Total Change\n",
       "female      -15.98%\n",
       "male         -6.32%"
      ]
     },
     "execution_count": 23,
     "metadata": {},
     "output_type": "execute_result"
    }
   ],
   "source": [
    "# checking the total change by gender\n",
    "\n",
    "df_gender_total_change = df_gender_year.copy()\n",
    "df_gender_total_change['Total Change'] = round(((df_gender_total_change[2020] - df_gender_total_change[2018]) / df_gender_total_change[2018]) * 100, 2)\n",
    "df_gender_total_change.drop(columns = [2018, 2019, 2020], inplace = True)\n",
    "df_gender_total_change['Total Change'].sort_values(ascending = True).to_frame()\n",
    "df_gender_total_change = df_gender_total_change.sort_values('Total Change', ascending = True).astype(str)\n",
    "df_gender_total_change['Total Change'] = df_gender_total_change['Total Change'] + '%'\n",
    "df_gender_total_change"
   ]
  },
  {
   "cell_type": "code",
   "execution_count": 24,
   "id": "catholic-regard",
   "metadata": {
    "ExecuteTime": {
     "end_time": "2021-03-29T02:59:22.721546Z",
     "start_time": "2021-03-29T02:59:22.530660Z"
    }
   },
   "outputs": [
    {
     "data": {
      "image/png": "[encoded data removed]",
      "text/plain": [
       "<Figure size 432x288 with 2 Axes>"
      ]
     },
     "metadata": {
      "needs_background": "light"
     },
     "output_type": "display_data"
    }
   ],
   "source": [
    "# making the text\n",
    "\n",
    "result_gender = [df_gender_total_change['Total Change'][0], df_gender_total_change['Total Change'][1]] \n",
    "label_gender = ['in the number of female victims', 'in the number of male victims']\n",
    "title = 'Total Change in Victims per Gender'\n",
    "\n",
    "make_text(2,\n",
    "          1,\n",
    "          2,\n",
    "          result_gender,\n",
    "          label_gender,\n",
    "          figsize = (6,4))"
   ]
  },
  {
   "cell_type": "markdown",
   "id": "molecular-resident",
   "metadata": {},
   "source": [
    "### Etinia"
   ]
  },
  {
   "cell_type": "markdown",
   "id": "danish-heavy",
   "metadata": {},
   "source": [
    "Brazil is a multiracial country, and in its census, the population is divided into five ethnic groups: Asian, Black, Indigenous, Parda (Multiracial), and White. According to SEADE, in 2010, the population of the state of São Paulo was divided as follows:\n",
    "\n",
    "|Ethnicity| % |\n",
    "|---|---|\n",
    "|Asian|1.35%|\n",
    "|Black|5.53%|\n",
    "|Indigenous|0.1%|\n",
    "|Parda (multiracial)|29.11%|\n",
    "|White|63.91%|\n",
    "\n",
    "**Note: some victims of homicide did not have their ethnic group disclosed in the police report. For these occurrences, the police station's system automatically noted for these victims \"no information\".**\n",
    "\n",
    "After analyzing the total number of victims by ethnicity, we see that more than 87% of the cases are composed of parda(multiracial) and white victims, with 5216 victims and 5096 victims, respectively. Right after that, we have 991 black victims, 463 victims without information on their ethnicity, 23 Asian victims, and four indigenous victims. \n",
    "\n",
    "Analyzing São Paulo's population, we can see that the multiracial population is approximately half of the white population. Considering the number of victims of homicide by ethnicity, it is possible to see the inequality. Multiracial victims represent most victims in São Paulo's state, with 44.23% against 43.21% being white victims and 8.4% of black victims. After a study on the difference between the numbers per year, it was found that the number of white victims fell by 9.31%, followed by multiracial victims, 8.24%, and black victims, 6.73%."
   ]
  },
  {
   "cell_type": "code",
   "execution_count": 47,
   "id": "controlling-mixer",
   "metadata": {
    "ExecuteTime": {
     "end_time": "2021-03-29T03:10:10.783685Z",
     "start_time": "2021-03-29T03:10:10.766699Z"
    }
   },
   "outputs": [
    {
     "name": "stdout",
     "output_type": "stream",
     "text": [
      "Total Number of parda (multiracial) victims:\t5216\n",
      "Total Number of white victims:\t\t\t5096\n",
      "Total Number of black victims:\t\t\t991\n",
      "Total Number of no information victims:\t\t463\n",
      "Total Number of asian victims:\t\t\t23\n",
      "Total Number of indigenous victims:\t\t4\n"
     ]
    }
   ],
   "source": [
    "# checking the total number of victims by gender\n",
    "\n",
    "df_ethnicity = df.ethnicity.value_counts().to_frame()\n",
    "for ethnicity in df.ethnicity.unique():\n",
    "    if ethnicity == 'parda (multiracial)':\n",
    "        print(f'Total Number of {ethnicity} victims:\\t{df_ethnicity.loc[ethnicity][0]}')\n",
    "    elif ethnicity == 'no information' or ethnicity == 'indigenous':\n",
    "        print(f'Total Number of {ethnicity} victims:\\t\\t{df_ethnicity.loc[ethnicity][0]}')\n",
    "    else:        \n",
    "        print(f'Total Number of {ethnicity} victims:\\t\\t\\t{df_ethnicity.loc[ethnicity][0]}')"
   ]
  },
  {
   "cell_type": "code",
   "execution_count": 26,
   "id": "brown-villa",
   "metadata": {
    "ExecuteTime": {
     "end_time": "2021-03-29T02:59:22.928840Z",
     "start_time": "2021-03-29T02:59:22.751261Z"
    }
   },
   "outputs": [
    {
     "data": {
      "image/png": "[encoded data removed]",
      "text/plain": [
       "<Figure size 432x288 with 2 Axes>"
      ]
     },
     "metadata": {
      "needs_background": "light"
     },
     "output_type": "display_data"
    }
   ],
   "source": [
    "# making the text\n",
    "\n",
    "result_ethnicity = [df_ethnicity['ethnicity'][0],df_ethnicity['ethnicity'][1]]\n",
    "label_ethnicity = [df_ethnicity.index[0] + ' victims', df_ethnicity.index[1] + ' victims']\n",
    "\n",
    "make_text(2,\n",
    "          1,\n",
    "          2,\n",
    "          result_ethnicity,\n",
    "          label_ethnicity,\n",
    "          figsize = (6,4))"
   ]
  },
  {
   "cell_type": "code",
   "execution_count": 48,
   "id": "typical-vatican",
   "metadata": {
    "ExecuteTime": {
     "end_time": "2021-03-29T03:11:00.567652Z",
     "start_time": "2021-03-29T03:11:00.550089Z"
    }
   },
   "outputs": [
    {
     "name": "stdout",
     "output_type": "stream",
     "text": [
      "Percentage of parda (multiracial) victims:\t44.23%\n",
      "Percentage of white victims:\t\t\t43.21%\n",
      "Percentage of black victims:\t\t\t8.4%\n",
      "Percentage of no information victims:\t\t3.93%\n",
      "Percentage of asian victims:\t\t\t0.2%\n",
      "Percentage of indigenous victims:\t\t0.03%\n"
     ]
    }
   ],
   "source": [
    "# checking the percentage of victims by ethnicity\n",
    "\n",
    "for ethnicity in df.ethnicity.unique():\n",
    "    if ethnicity == 'parda (multiracial)':\n",
    "        print(f'Percentage of {ethnicity} victims:\\t{str(round((df_ethnicity.loc[ethnicity][0] / df.shape[0])*100, 2))}' + '%')\n",
    "    elif ethnicity == 'no information' or ethnicity == 'indigenous':\n",
    "        print(f'Percentage of {ethnicity} victims:\\t\\t{str(round((df_ethnicity.loc[ethnicity][0] / df.shape[0])*100, 2))}' + '%')\n",
    "    else:        \n",
    "        print(f'Percentage of {ethnicity} victims:\\t\\t\\t{str(round((df_ethnicity.loc[ethnicity][0] / df.shape[0])*100, 2))}' + '%')"
   ]
  },
  {
   "cell_type": "code",
   "execution_count": 28,
   "id": "molecular-brick",
   "metadata": {
    "ExecuteTime": {
     "end_time": "2021-03-29T02:59:23.010104Z",
     "start_time": "2021-03-29T02:59:22.956050Z"
    }
   },
   "outputs": [
    {
     "data": {
      "text/html": [
       "<div>\n",
       "<style scoped>\n",
       "    .dataframe tbody tr th:only-of-type {\n",
       "        vertical-align: middle;\n",
       "    }\n",
       "\n",
       "    .dataframe tbody tr th {\n",
       "        vertical-align: top;\n",
       "    }\n",
       "\n",
       "    .dataframe thead th {\n",
       "        text-align: right;\n",
       "    }\n",
       "</style>\n",
       "<table border=\"1\" class=\"dataframe\">\n",
       "  <thead>\n",
       "    <tr style=\"text-align: right;\">\n",
       "      <th></th>\n",
       "      <th>2018</th>\n",
       "      <th>2019</th>\n",
       "      <th>2020</th>\n",
       "    </tr>\n",
       "  </thead>\n",
       "  <tbody>\n",
       "    <tr>\n",
       "      <th>parda (multiracial)</th>\n",
       "      <td>1820</td>\n",
       "      <td>1726</td>\n",
       "      <td>1670</td>\n",
       "    </tr>\n",
       "    <tr>\n",
       "      <th>white</th>\n",
       "      <td>1772</td>\n",
       "      <td>1717</td>\n",
       "      <td>1607</td>\n",
       "    </tr>\n",
       "    <tr>\n",
       "      <th>black</th>\n",
       "      <td>342</td>\n",
       "      <td>330</td>\n",
       "      <td>319</td>\n",
       "    </tr>\n",
       "    <tr>\n",
       "      <th>no information</th>\n",
       "      <td>145</td>\n",
       "      <td>149</td>\n",
       "      <td>169</td>\n",
       "    </tr>\n",
       "    <tr>\n",
       "      <th>asian</th>\n",
       "      <td>4</td>\n",
       "      <td>11</td>\n",
       "      <td>8</td>\n",
       "    </tr>\n",
       "    <tr>\n",
       "      <th>indigenous</th>\n",
       "      <td>0</td>\n",
       "      <td>1</td>\n",
       "      <td>3</td>\n",
       "    </tr>\n",
       "  </tbody>\n",
       "</table>\n",
       "</div>"
      ],
      "text/plain": [
       "                     2018  2019  2020\n",
       "parda (multiracial)  1820  1726  1670\n",
       "white                1772  1717  1607\n",
       "black                 342   330   319\n",
       "no information        145   149   169\n",
       "asian                   4    11     8\n",
       "indigenous              0     1     3"
      ]
     },
     "execution_count": 28,
     "metadata": {},
     "output_type": "execute_result"
    }
   ],
   "source": [
    "# checking the total number of victims per ethnicity by year\n",
    "\n",
    "df_ethnicity_year = df_ethnicity.copy()\n",
    "\n",
    "for year in df.year.unique():\n",
    "    df_ethnicity_year[year] = df.groupby('ethnicity')['year'].apply(lambda x: \\\n",
    "                               (x == year).sum())\n",
    "\n",
    "df_ethnicity_year = df_ethnicity_year.drop(columns = ['ethnicity'])\n",
    "df_ethnicity_year"
   ]
  },
  {
   "cell_type": "code",
   "execution_count": 29,
   "id": "pretty-polls",
   "metadata": {
    "ExecuteTime": {
     "end_time": "2021-03-29T02:59:23.041226Z",
     "start_time": "2021-03-29T02:59:23.014441Z"
    }
   },
   "outputs": [
    {
     "data": {
      "text/html": [
       "<div>\n",
       "<style scoped>\n",
       "    .dataframe tbody tr th:only-of-type {\n",
       "        vertical-align: middle;\n",
       "    }\n",
       "\n",
       "    .dataframe tbody tr th {\n",
       "        vertical-align: top;\n",
       "    }\n",
       "\n",
       "    .dataframe thead th {\n",
       "        text-align: right;\n",
       "    }\n",
       "</style>\n",
       "<table border=\"1\" class=\"dataframe\">\n",
       "  <thead>\n",
       "    <tr style=\"text-align: right;\">\n",
       "      <th></th>\n",
       "      <th>2018</th>\n",
       "      <th>2019</th>\n",
       "      <th>2020</th>\n",
       "    </tr>\n",
       "  </thead>\n",
       "  <tbody>\n",
       "    <tr>\n",
       "      <th>parda (multiracial)</th>\n",
       "      <td>NaN</td>\n",
       "      <td>-5.16</td>\n",
       "      <td>-3.24</td>\n",
       "    </tr>\n",
       "    <tr>\n",
       "      <th>white</th>\n",
       "      <td>NaN</td>\n",
       "      <td>-3.10</td>\n",
       "      <td>-6.41</td>\n",
       "    </tr>\n",
       "    <tr>\n",
       "      <th>black</th>\n",
       "      <td>NaN</td>\n",
       "      <td>-3.51</td>\n",
       "      <td>-3.33</td>\n",
       "    </tr>\n",
       "    <tr>\n",
       "      <th>no information</th>\n",
       "      <td>NaN</td>\n",
       "      <td>2.76</td>\n",
       "      <td>13.42</td>\n",
       "    </tr>\n",
       "    <tr>\n",
       "      <th>asian</th>\n",
       "      <td>NaN</td>\n",
       "      <td>175.00</td>\n",
       "      <td>-27.27</td>\n",
       "    </tr>\n",
       "    <tr>\n",
       "      <th>indigenous</th>\n",
       "      <td>NaN</td>\n",
       "      <td>inf</td>\n",
       "      <td>200.00</td>\n",
       "    </tr>\n",
       "  </tbody>\n",
       "</table>\n",
       "</div>"
      ],
      "text/plain": [
       "                     2018    2019    2020\n",
       "parda (multiracial)   NaN   -5.16   -3.24\n",
       "white                 NaN   -3.10   -6.41\n",
       "black                 NaN   -3.51   -3.33\n",
       "no information        NaN    2.76   13.42\n",
       "asian                 NaN  175.00  -27.27\n",
       "indigenous            NaN     inf  200.00"
      ]
     },
     "execution_count": 29,
     "metadata": {},
     "output_type": "execute_result"
    }
   ],
   "source": [
    "# checking the change by year\n",
    "\n",
    "df_ethnicity_change_year = df_ethnicity_year.T\n",
    "df_ethnicity_change_year = (round(df_ethnicity_change_year.pct_change(),4)*100).T\n",
    "df_ethnicity_change_year"
   ]
  },
  {
   "cell_type": "code",
   "execution_count": 30,
   "id": "offensive-squad",
   "metadata": {
    "ExecuteTime": {
     "end_time": "2021-03-29T02:59:23.323875Z",
     "start_time": "2021-03-29T02:59:23.045348Z"
    }
   },
   "outputs": [
    {
     "data": {
      "image/png": "[encoded data removed]",
      "text/plain": [
       "<Figure size 1440x144 with 3 Axes>"
      ]
     },
     "metadata": {
      "needs_background": "light"
     },
     "output_type": "display_data"
    }
   ],
   "source": [
    "# checking the total change by ethnicity\n",
    "\n",
    "df_ethnicity_total_change = df_ethnicity_year.copy()\n",
    "df_ethnicity_total_change['Total Change'] = round(((df_ethnicity_total_change[2020] - df_ethnicity_total_change[2018]) / df_ethnicity_total_change[2018]) * 100, 2)\n",
    "df_ethnicity_total_change.drop(columns = [2018, 2019, 2020], inplace = True)\n",
    "df_ethnicity_total_change['Total Change'].sort_values(ascending = True).to_frame()\n",
    "df_ethnicity_total_change = df_ethnicity_total_change.sort_values('Total Change', ascending = True).astype(str)\n",
    "df_ethnicity_total_change['Total Change'] = df_ethnicity_total_change['Total Change'] + '%'\n",
    "df_ethnicity_total_change\n",
    "\n",
    "# creating the texts\n",
    "\n",
    "result_ethnicity = [df_ethnicity_total_change['Total Change'][0], df_ethnicity_total_change['Total Change'][1], df_ethnicity_total_change['Total Change'][2]]\n",
    "label_ethnicity = [df_ethnicity_total_change.index[0] + ' victims', df_ethnicity_total_change.index[1] + ' victims', df_ethnicity_total_change.index[2] + ' victims']\n",
    "make_text(1,\n",
    "          3,\n",
    "          3,\n",
    "          result_ethnicity,\n",
    "          label_ethnicity,\n",
    "          figsize = (20,2))"
   ]
  },
  {
   "cell_type": "markdown",
   "id": "compound-marsh",
   "metadata": {},
   "source": [
    "### Age"
   ]
  },
  {
   "cell_type": "markdown",
   "id": "noticed-composer",
   "metadata": {},
   "source": [
    "In the police reports, the age of many of the victims was not indicated. In the case of these victims, the age of 200 years was added, so that they were included in the „unknown“ age group. When the statistical summary is generated, these victims are not selected.\n",
    "\n",
    "The statistics summary shows that the average age of the victims and the median are respectively 33.77 years and 32 years. 25% of the victims are below 23 years old, and 75% are below 41 years old. This information already shows that most victims are concentrated on the age group 20-29 and are concentrated up to 30-39, as shown below.\n",
    "\n",
    "After the total results, I conducted a study to verify the differences per year, where all age groups showed a drop in values. However, age groups 10-19 with -34.23%, 0-9 with -25.00%, and 70+ with -20.00% showed the most significant decrease in the number of victims."
   ]
  },
  {
   "cell_type": "code",
   "execution_count": 31,
   "id": "sweet-bench",
   "metadata": {
    "ExecuteTime": {
     "end_time": "2021-03-29T02:59:23.359433Z",
     "start_time": "2021-03-29T02:59:23.327912Z"
    }
   },
   "outputs": [
    {
     "data": {
      "text/html": [
       "<div>\n",
       "<style scoped>\n",
       "    .dataframe tbody tr th:only-of-type {\n",
       "        vertical-align: middle;\n",
       "    }\n",
       "\n",
       "    .dataframe tbody tr th {\n",
       "        vertical-align: top;\n",
       "    }\n",
       "\n",
       "    .dataframe thead th {\n",
       "        text-align: right;\n",
       "    }\n",
       "</style>\n",
       "<table border=\"1\" class=\"dataframe\">\n",
       "  <thead>\n",
       "    <tr style=\"text-align: right;\">\n",
       "      <th></th>\n",
       "      <th>age</th>\n",
       "    </tr>\n",
       "  </thead>\n",
       "  <tbody>\n",
       "    <tr>\n",
       "      <th>count</th>\n",
       "      <td>9762.000000</td>\n",
       "    </tr>\n",
       "    <tr>\n",
       "      <th>mean</th>\n",
       "      <td>33.779553</td>\n",
       "    </tr>\n",
       "    <tr>\n",
       "      <th>std</th>\n",
       "      <td>13.433729</td>\n",
       "    </tr>\n",
       "    <tr>\n",
       "      <th>min</th>\n",
       "      <td>0.000000</td>\n",
       "    </tr>\n",
       "    <tr>\n",
       "      <th>25%</th>\n",
       "      <td>23.000000</td>\n",
       "    </tr>\n",
       "    <tr>\n",
       "      <th>50%</th>\n",
       "      <td>32.000000</td>\n",
       "    </tr>\n",
       "    <tr>\n",
       "      <th>75%</th>\n",
       "      <td>41.000000</td>\n",
       "    </tr>\n",
       "    <tr>\n",
       "      <th>max</th>\n",
       "      <td>99.000000</td>\n",
       "    </tr>\n",
       "  </tbody>\n",
       "</table>\n",
       "</div>"
      ],
      "text/plain": [
       "               age\n",
       "count  9762.000000\n",
       "mean     33.779553\n",
       "std      13.433729\n",
       "min       0.000000\n",
       "25%      23.000000\n",
       "50%      32.000000\n",
       "75%      41.000000\n",
       "max      99.000000"
      ]
     },
     "execution_count": 31,
     "metadata": {},
     "output_type": "execute_result"
    }
   ],
   "source": [
    "# checking the statistics summary of age variable\n",
    "\n",
    "df_age = df.age\n",
    "df_age.to_frame()\n",
    "summary = df_age.replace(200, np.NaN).to_frame()\n",
    "summary.describe()"
   ]
  },
  {
   "cell_type": "code",
   "execution_count": 32,
   "id": "worst-finder",
   "metadata": {
    "ExecuteTime": {
     "end_time": "2021-03-29T02:59:23.393006Z",
     "start_time": "2021-03-29T02:59:23.362482Z"
    }
   },
   "outputs": [
    {
     "name": "stdout",
     "output_type": "stream",
     "text": [
      "Total Number of victims in the age group 0-9:\t\t74\n",
      "Total Number of victims in the age group 10-19:\t\t1152\n",
      "Total Number of victims in the age group 20-29:\t\t2995\n",
      "Total Number of victims in the age group 30-39:\t\t2677\n",
      "Total Number of victims in the age group 40-49:\t\t1626\n",
      "Total Number of victims in the age group 50-59:\t\t767\n",
      "Total Number of victims in the age group 60-69:\t\t325\n",
      "Total Number of victims in the age group 70+:\t\t146\n",
      "Total Number of victims in the age group unknown:\t2031\n"
     ]
    }
   ],
   "source": [
    "# checking the total number of victims by age_group\n",
    "\n",
    "df_agegroup = df.age_group.value_counts().to_frame().sort_index()\n",
    "age_group = df.age_group.unique().sort_values()\n",
    "\n",
    "for agegroup in age_group:\n",
    "    if agegroup != 'unknown':\n",
    "        print(f'Total Number of victims in the age group {agegroup}:\\t\\t{df_agegroup.loc[agegroup][0]}')\n",
    "    else:        \n",
    "        print(f'Total Number of victims in the age group {agegroup}:\\t{df_agegroup.loc[agegroup][0]}')"
   ]
  },
  {
   "cell_type": "code",
   "execution_count": 33,
   "id": "expanded-trading",
   "metadata": {
    "ExecuteTime": {
     "end_time": "2021-03-29T02:59:23.410016Z",
     "start_time": "2021-03-29T02:59:23.396754Z"
    }
   },
   "outputs": [
    {
     "name": "stdout",
     "output_type": "stream",
     "text": [
      "Percentage of victims in the 0-9 age group:\t\t0.63%\n",
      "Percentage of victims in the 10-19 age group:\t\t9.77%\n",
      "Percentage of victims in the 20-29 age group:\t\t25.4%\n",
      "Percentage of victims in the 30-39 age group:\t\t22.7%\n",
      "Percentage of victims in the 40-49 age group:\t\t13.79%\n",
      "Percentage of victims in the 50-59 age group:\t\t6.5%\n",
      "Percentage of victims in the 60-69 age group:\t\t2.76%\n",
      "Percentage of victims in the 70+ age group:\t\t1.24%\n",
      "Percentage of victims in the unknown age group:\t\t17.22%\n"
     ]
    }
   ],
   "source": [
    "# checking the percentage of victims by age_group\n",
    "\n",
    "for agegroup in age_group:\n",
    "    print(f'Percentage of victims in the {agegroup} age group:\\t\\t{str(round((df_agegroup.loc[agegroup][0] / df.shape[0])*100, 2))}' + '%')"
   ]
  },
  {
   "cell_type": "code",
   "execution_count": 34,
   "id": "relative-basin",
   "metadata": {
    "ExecuteTime": {
     "end_time": "2021-03-29T02:59:23.467160Z",
     "start_time": "2021-03-29T02:59:23.413313Z"
    }
   },
   "outputs": [
    {
     "data": {
      "text/html": [
       "<div>\n",
       "<style scoped>\n",
       "    .dataframe tbody tr th:only-of-type {\n",
       "        vertical-align: middle;\n",
       "    }\n",
       "\n",
       "    .dataframe tbody tr th {\n",
       "        vertical-align: top;\n",
       "    }\n",
       "\n",
       "    .dataframe thead th {\n",
       "        text-align: right;\n",
       "    }\n",
       "</style>\n",
       "<table border=\"1\" class=\"dataframe\">\n",
       "  <thead>\n",
       "    <tr style=\"text-align: right;\">\n",
       "      <th></th>\n",
       "      <th>2018</th>\n",
       "      <th>2019</th>\n",
       "      <th>2020</th>\n",
       "    </tr>\n",
       "  </thead>\n",
       "  <tbody>\n",
       "    <tr>\n",
       "      <th>0-9</th>\n",
       "      <td>24</td>\n",
       "      <td>32</td>\n",
       "      <td>18</td>\n",
       "    </tr>\n",
       "    <tr>\n",
       "      <th>10-19</th>\n",
       "      <td>485</td>\n",
       "      <td>348</td>\n",
       "      <td>319</td>\n",
       "    </tr>\n",
       "    <tr>\n",
       "      <th>20-29</th>\n",
       "      <td>1035</td>\n",
       "      <td>1043</td>\n",
       "      <td>917</td>\n",
       "    </tr>\n",
       "    <tr>\n",
       "      <th>30-39</th>\n",
       "      <td>902</td>\n",
       "      <td>928</td>\n",
       "      <td>847</td>\n",
       "    </tr>\n",
       "    <tr>\n",
       "      <th>40-49</th>\n",
       "      <td>570</td>\n",
       "      <td>523</td>\n",
       "      <td>533</td>\n",
       "    </tr>\n",
       "    <tr>\n",
       "      <th>50-59</th>\n",
       "      <td>266</td>\n",
       "      <td>240</td>\n",
       "      <td>261</td>\n",
       "    </tr>\n",
       "    <tr>\n",
       "      <th>60-69</th>\n",
       "      <td>108</td>\n",
       "      <td>113</td>\n",
       "      <td>104</td>\n",
       "    </tr>\n",
       "    <tr>\n",
       "      <th>70+</th>\n",
       "      <td>50</td>\n",
       "      <td>56</td>\n",
       "      <td>40</td>\n",
       "    </tr>\n",
       "    <tr>\n",
       "      <th>unknown</th>\n",
       "      <td>643</td>\n",
       "      <td>651</td>\n",
       "      <td>737</td>\n",
       "    </tr>\n",
       "  </tbody>\n",
       "</table>\n",
       "</div>"
      ],
      "text/plain": [
       "         2018  2019  2020\n",
       "0-9        24    32    18\n",
       "10-19     485   348   319\n",
       "20-29    1035  1043   917\n",
       "30-39     902   928   847\n",
       "40-49     570   523   533\n",
       "50-59     266   240   261\n",
       "60-69     108   113   104\n",
       "70+        50    56    40\n",
       "unknown   643   651   737"
      ]
     },
     "execution_count": 34,
     "metadata": {},
     "output_type": "execute_result"
    }
   ],
   "source": [
    "# checking the total number of victims per age_group by year\n",
    "\n",
    "df_agegroup_year = df_agegroup.copy()\n",
    "\n",
    "for year in df.year.unique():\n",
    "    df_agegroup_year[year] = df.groupby('age_group')['year'].apply(lambda x: \\\n",
    "                               (x == year).sum())\n",
    "\n",
    "df_agegroup_year = df_agegroup_year.drop(columns = ['age_group'])\n",
    "df_agegroup_year"
   ]
  },
  {
   "cell_type": "code",
   "execution_count": 35,
   "id": "flexible-caution",
   "metadata": {
    "ExecuteTime": {
     "end_time": "2021-03-29T02:59:23.510197Z",
     "start_time": "2021-03-29T02:59:23.470209Z"
    }
   },
   "outputs": [
    {
     "data": {
      "text/html": [
       "<div>\n",
       "<style scoped>\n",
       "    .dataframe tbody tr th:only-of-type {\n",
       "        vertical-align: middle;\n",
       "    }\n",
       "\n",
       "    .dataframe tbody tr th {\n",
       "        vertical-align: top;\n",
       "    }\n",
       "\n",
       "    .dataframe thead th {\n",
       "        text-align: right;\n",
       "    }\n",
       "</style>\n",
       "<table border=\"1\" class=\"dataframe\">\n",
       "  <thead>\n",
       "    <tr style=\"text-align: right;\">\n",
       "      <th></th>\n",
       "      <th>2018</th>\n",
       "      <th>2019</th>\n",
       "      <th>2020</th>\n",
       "    </tr>\n",
       "  </thead>\n",
       "  <tbody>\n",
       "    <tr>\n",
       "      <th>0-9</th>\n",
       "      <td>NaN</td>\n",
       "      <td>33.33</td>\n",
       "      <td>-43.75</td>\n",
       "    </tr>\n",
       "    <tr>\n",
       "      <th>10-19</th>\n",
       "      <td>NaN</td>\n",
       "      <td>-28.25</td>\n",
       "      <td>-8.33</td>\n",
       "    </tr>\n",
       "    <tr>\n",
       "      <th>20-29</th>\n",
       "      <td>NaN</td>\n",
       "      <td>0.77</td>\n",
       "      <td>-12.08</td>\n",
       "    </tr>\n",
       "    <tr>\n",
       "      <th>30-39</th>\n",
       "      <td>NaN</td>\n",
       "      <td>2.88</td>\n",
       "      <td>-8.73</td>\n",
       "    </tr>\n",
       "    <tr>\n",
       "      <th>40-49</th>\n",
       "      <td>NaN</td>\n",
       "      <td>-8.25</td>\n",
       "      <td>1.91</td>\n",
       "    </tr>\n",
       "    <tr>\n",
       "      <th>50-59</th>\n",
       "      <td>NaN</td>\n",
       "      <td>-9.77</td>\n",
       "      <td>8.75</td>\n",
       "    </tr>\n",
       "    <tr>\n",
       "      <th>60-69</th>\n",
       "      <td>NaN</td>\n",
       "      <td>4.63</td>\n",
       "      <td>-7.96</td>\n",
       "    </tr>\n",
       "    <tr>\n",
       "      <th>70+</th>\n",
       "      <td>NaN</td>\n",
       "      <td>12.00</td>\n",
       "      <td>-28.57</td>\n",
       "    </tr>\n",
       "    <tr>\n",
       "      <th>unknown</th>\n",
       "      <td>NaN</td>\n",
       "      <td>1.24</td>\n",
       "      <td>13.21</td>\n",
       "    </tr>\n",
       "  </tbody>\n",
       "</table>\n",
       "</div>"
      ],
      "text/plain": [
       "         2018   2019   2020\n",
       "0-9       NaN  33.33 -43.75\n",
       "10-19     NaN -28.25  -8.33\n",
       "20-29     NaN   0.77 -12.08\n",
       "30-39     NaN   2.88  -8.73\n",
       "40-49     NaN  -8.25   1.91\n",
       "50-59     NaN  -9.77   8.75\n",
       "60-69     NaN   4.63  -7.96\n",
       "70+       NaN  12.00 -28.57\n",
       "unknown   NaN   1.24  13.21"
      ]
     },
     "execution_count": 35,
     "metadata": {},
     "output_type": "execute_result"
    }
   ],
   "source": [
    "# checking the change by year\n",
    "\n",
    "df_agegroup_change_year = df_agegroup_year.T\n",
    "df_agegroup_change_year = (round(df_agegroup_change_year.pct_change(),4)*100).T\n",
    "df_agegroup_change_year"
   ]
  },
  {
   "cell_type": "code",
   "execution_count": 36,
   "id": "environmental-diagram",
   "metadata": {
    "ExecuteTime": {
     "end_time": "2021-03-29T02:59:23.785008Z",
     "start_time": "2021-03-29T02:59:23.513104Z"
    }
   },
   "outputs": [
    {
     "data": {
      "image/png": "[encoded data removed]",
      "text/plain": [
       "<Figure size 432x432 with 3 Axes>"
      ]
     },
     "metadata": {
      "needs_background": "light"
     },
     "output_type": "display_data"
    }
   ],
   "source": [
    "# checking the total change by age_group\n",
    "\n",
    "df_agegroup_total_change = df_agegroup_year.copy()\n",
    "df_agegroup_total_change['Total Change'] = round(((df_agegroup_total_change[2020] - df_agegroup_total_change[2018]) / df_agegroup_total_change[2018]) * 100, 2)\n",
    "df_agegroup_total_change.drop(columns = [2018, 2019, 2020], inplace = True)\n",
    "df_agegroup_total_change['Total Change'].sort_values(ascending = True).to_frame()\n",
    "df_agegroup_total_change = df_agegroup_total_change.sort_values('Total Change', ascending = True).astype(str)\n",
    "df_agegroup_total_change['Total Change'] = df_agegroup_total_change['Total Change'] + '%'\n",
    "\n",
    "# creating the text for age_group\n",
    "\n",
    "result_agegroup = [df_agegroup_total_change['Total Change'][0], df_agegroup_total_change['Total Change'][1], df_agegroup_total_change['Total Change'][2]]\n",
    "label_agegroup = ['victims from age group ' + df_agegroup_total_change.index[0], 'victims from age group ' + df_agegroup_total_change.index[1], 'victims from age group ' + df_agegroup_total_change.index[2]]\n",
    "make_text(3,\n",
    "          1,\n",
    "          3,\n",
    "          result_agegroup,\n",
    "          label_agegroup,\n",
    "          font1_size = 60,\n",
    "          figsize = (6,6))"
   ]
  },
  {
   "cell_type": "markdown",
   "id": "listed-roberts",
   "metadata": {},
   "source": [
    "### Victims Profile"
   ]
  },
  {
   "cell_type": "markdown",
   "id": "educational-drinking",
   "metadata": {},
   "source": [
    "After analyzing the variables `gender`, `ethnicity`, `age`, and `age_group`, we can trace a profile of the most frequent victims of homicide. The male victims' profile shows that most male victims were multiracial and aged between 20-29 years. This profile showed a total of 1285 victims in the analyzed period.\n",
    "\n",
    "A female profile, on the other hand, has different characteristics. The female victims' profile shows that majority of female victims were white and aged 30-39. This profile showed a total of 174 victims in the analyzed period."
   ]
  },
  {
   "cell_type": "code",
   "execution_count": 37,
   "id": "retained-henry",
   "metadata": {
    "ExecuteTime": {
     "end_time": "2021-03-29T02:59:23.860265Z",
     "start_time": "2021-03-29T02:59:23.788327Z"
    }
   },
   "outputs": [
    {
     "data": {
      "text/html": [
       "<div>\n",
       "<style scoped>\n",
       "    .dataframe tbody tr th:only-of-type {\n",
       "        vertical-align: middle;\n",
       "    }\n",
       "\n",
       "    .dataframe tbody tr th {\n",
       "        vertical-align: top;\n",
       "    }\n",
       "\n",
       "    .dataframe thead th {\n",
       "        text-align: right;\n",
       "    }\n",
       "</style>\n",
       "<table border=\"1\" class=\"dataframe\">\n",
       "  <thead>\n",
       "    <tr style=\"text-align: right;\">\n",
       "      <th></th>\n",
       "      <th>gender</th>\n",
       "      <th>ethnicity</th>\n",
       "      <th>age_group</th>\n",
       "      <th>total victims</th>\n",
       "    </tr>\n",
       "  </thead>\n",
       "  <tbody>\n",
       "    <tr>\n",
       "      <th>0</th>\n",
       "      <td>male</td>\n",
       "      <td>parda (multiracial)</td>\n",
       "      <td>20-29</td>\n",
       "      <td>1285</td>\n",
       "    </tr>\n",
       "    <tr>\n",
       "      <th>1</th>\n",
       "      <td>male</td>\n",
       "      <td>white</td>\n",
       "      <td>20-29</td>\n",
       "      <td>1080</td>\n",
       "    </tr>\n",
       "    <tr>\n",
       "      <th>2</th>\n",
       "      <td>male</td>\n",
       "      <td>parda (multiracial)</td>\n",
       "      <td>30-39</td>\n",
       "      <td>1065</td>\n",
       "    </tr>\n",
       "  </tbody>\n",
       "</table>\n",
       "</div>"
      ],
      "text/plain": [
       "  gender            ethnicity age_group  total victims\n",
       "0   male  parda (multiracial)     20-29           1285\n",
       "1   male                white     20-29           1080\n",
       "2   male  parda (multiracial)     30-39           1065"
      ]
     },
     "execution_count": 37,
     "metadata": {},
     "output_type": "execute_result"
    }
   ],
   "source": [
    "# victims profile for male gender\n",
    "\n",
    "df_male = df[df['gender'] == 'male']\n",
    "df_male = df_male.groupby(['gender', 'ethnicity', 'age_group']).size().to_frame().reset_index()\n",
    "df_male.columns = ['gender','ethnicity', 'age_group', 'total victims']\n",
    "df_male = df_male.sort_values('total victims', ascending = False).reset_index()\n",
    "df_male = df_male.drop('index', axis = 1)\n",
    "df_male.head(3)"
   ]
  },
  {
   "cell_type": "code",
   "execution_count": 38,
   "id": "cognitive-lebanon",
   "metadata": {
    "ExecuteTime": {
     "end_time": "2021-03-29T02:59:23.914011Z",
     "start_time": "2021-03-29T02:59:23.865810Z"
    }
   },
   "outputs": [
    {
     "data": {
      "text/html": [
       "<div>\n",
       "<style scoped>\n",
       "    .dataframe tbody tr th:only-of-type {\n",
       "        vertical-align: middle;\n",
       "    }\n",
       "\n",
       "    .dataframe tbody tr th {\n",
       "        vertical-align: top;\n",
       "    }\n",
       "\n",
       "    .dataframe thead th {\n",
       "        text-align: right;\n",
       "    }\n",
       "</style>\n",
       "<table border=\"1\" class=\"dataframe\">\n",
       "  <thead>\n",
       "    <tr style=\"text-align: right;\">\n",
       "      <th></th>\n",
       "      <th>gender</th>\n",
       "      <th>ethnicity</th>\n",
       "      <th>age_group</th>\n",
       "      <th>total victims</th>\n",
       "    </tr>\n",
       "  </thead>\n",
       "  <tbody>\n",
       "    <tr>\n",
       "      <th>0</th>\n",
       "      <td>female</td>\n",
       "      <td>white</td>\n",
       "      <td>30-39</td>\n",
       "      <td>174</td>\n",
       "    </tr>\n",
       "    <tr>\n",
       "      <th>1</th>\n",
       "      <td>female</td>\n",
       "      <td>white</td>\n",
       "      <td>20-29</td>\n",
       "      <td>161</td>\n",
       "    </tr>\n",
       "    <tr>\n",
       "      <th>2</th>\n",
       "      <td>female</td>\n",
       "      <td>white</td>\n",
       "      <td>40-49</td>\n",
       "      <td>139</td>\n",
       "    </tr>\n",
       "  </tbody>\n",
       "</table>\n",
       "</div>"
      ],
      "text/plain": [
       "   gender ethnicity age_group  total victims\n",
       "0  female     white     30-39            174\n",
       "1  female     white     20-29            161\n",
       "2  female     white     40-49            139"
      ]
     },
     "execution_count": 38,
     "metadata": {},
     "output_type": "execute_result"
    }
   ],
   "source": [
    "# victims profile for female gender\n",
    "\n",
    "df_female = df[df['gender'] == 'female']\n",
    "df_female = df_female.groupby(['gender','ethnicity', 'age_group']).size().to_frame().reset_index()\n",
    "df_female.columns = ['gender', 'ethnicity', 'age_group', 'total victims']\n",
    "df_female = df_female.sort_values('total victims', ascending = False).reset_index()\n",
    "df_female = df_female.drop('index', axis = 1)\n",
    "df_female.head(3)"
   ]
  },
  {
   "cell_type": "code",
   "execution_count": 39,
   "id": "interpreted-daisy",
   "metadata": {
    "ExecuteTime": {
     "end_time": "2021-03-29T02:59:24.567655Z",
     "start_time": "2021-03-29T02:59:23.917332Z"
    }
   },
   "outputs": [
    {
     "data": {
      "image/png": "[encoded data removed]",
      "text/plain": [
       "<Figure size 1152x216 with 6 Axes>"
      ]
     },
     "metadata": {
      "needs_background": "light"
     },
     "output_type": "display_data"
    }
   ],
   "source": [
    "# creating victims' profile text\n",
    "\n",
    "values_victims_profile = [0, 1, 2]\n",
    "result_victims_profile = []\n",
    "label_victims_profile = []\n",
    "abb = ['st', 'nd', 'rd']\n",
    "\n",
    "for i in values_victims_profile:\n",
    "    label_victims_profile.append(f'{df_male[\"total victims\"][i]} victims')\n",
    "    label_victims_profile.append(f'{df_female[\"total victims\"][i]} victims')\n",
    "    result_victims_profile.append(f'{i+1}{abb[i]}- {df_male.iat[i,0]}, {df_male.iat[i,1]} and age group {df_male.iat[i,2]}')\n",
    "    result_victims_profile.append(f'{i+1}{abb[i]}- {df_female.iat[i,0]}, {df_female.iat[i,1]} and age group {df_female.iat[i,2]}')\n",
    "\n",
    "#for i in values_victims_profile:\n",
    "#    result_victims_profile.append(df_female['total victims'][i])\n",
    "#    label_victims_profile.append(f'gender {df_female.iat[i,0]}, {df_female.iat[i,1]} and age between {df_female.iat[i,2]} years old')\n",
    "\n",
    "make_text(3,\n",
    "          2,\n",
    "          6,\n",
    "          result_victims_profile,\n",
    "          label = label_victims_profile,\n",
    "          font1_size = 15,\n",
    "          font2_size = 15,\n",
    "          ha = 'left',\n",
    "          font1_color = '#5F6A6A',\n",
    "          font2_color = '#FF691E',\n",
    "          font1_weight = 'heavy',\n",
    "          font2_weight = 'bold',\n",
    "          title1 = \"Male Victims' Profile\",\n",
    "          title2 = \"Female Victims' Profile\",\n",
    "          loc = 'right',\n",
    "          a = 0,\n",
    "          c = 0,\n",
    "          figsize = (16, 3))"
   ]
  },
  {
   "cell_type": "markdown",
   "id": "accompanied-childhood",
   "metadata": {},
   "source": [
    "## Temporal Analysis"
   ]
  },
  {
   "cell_type": "markdown",
   "id": "saving-recovery",
   "metadata": {},
   "source": [
    "The temporal analysis will seek to obtain simple information on the total number of victims per period.\n",
    "This analysis will answer the following questions:\n",
    "\n",
    "1. What is the month with the most victims of murder?\n",
    "2. What is the day with the most victims of murder?\n",
    "3. Which period of the day has more victims of murder?\n",
    "4. What is the hour of the day with the most victims of muder? Are there differences between the hours on weekdays and weekends?"
   ]
  },
  {
   "cell_type": "markdown",
   "id": "plastic-russian",
   "metadata": {},
   "source": [
    "### 1 - What is the month with the most victims of murder?"
   ]
  },
  {
   "cell_type": "code",
   "execution_count": 40,
   "id": "american-wiring",
   "metadata": {
    "ExecuteTime": {
     "end_time": "2021-03-29T02:59:24.925520Z",
     "start_time": "2021-03-29T02:59:24.571288Z"
    }
   },
   "outputs": [
    {
     "data": {
      "image/png": "[encoded data removed]",
      "text/plain": [
       "<Figure size 1224x216 with 2 Axes>"
      ]
     },
     "metadata": {
      "needs_background": "light"
     },
     "output_type": "display_data"
    }
   ],
   "source": [
    "# checking the months with more victims\n",
    "\n",
    "aux_month = df.groupby('month').size().to_frame()\n",
    "month_map = {1:'January', \n",
    "             2:'February', \n",
    "             3:'March', \n",
    "             4:'April', \n",
    "             5:'Mai', \n",
    "             6:'June', \n",
    "             7:'July', \n",
    "             8:'August', \n",
    "             9:'September', \n",
    "             10:'October', \n",
    "             11:'November', \n",
    "             12:'December'}\n",
    "\n",
    "aux_month[\"month_map\"] = aux_month.index.map(month_map)\n",
    "\n",
    "result_month = aux_month.loc[aux_month[0].idxmax()]['month_map'] \n",
    "label_month = aux_month[0]\n",
    "text_month = 'is the month with the highest number of victims'\n",
    "\n",
    "make_chart_and_text(aux_month,\n",
    "                    label_month,\n",
    "                    0,\n",
    "                    result_month,\n",
    "                    text_month,\n",
    "                    min_max = 'max',\n",
    "                    min_max_all = 'max',\n",
    "                    a = 0.4,\n",
    "                    b = 0.5,\n",
    "                    c = 0.4,\n",
    "                    d = 0.25,\n",
    "                    figsize = (17,3))"
   ]
  },
  {
   "cell_type": "markdown",
   "id": "false-preview",
   "metadata": {},
   "source": [
    "### 2 - What is the day with the most victims of murder?"
   ]
  },
  {
   "cell_type": "code",
   "execution_count": 41,
   "id": "electoral-eagle",
   "metadata": {
    "ExecuteTime": {
     "end_time": "2021-03-29T02:59:25.237779Z",
     "start_time": "2021-03-29T02:59:24.929492Z"
    }
   },
   "outputs": [
    {
     "data": {
      "image/png": "[encoded data removed]",
      "text/plain": [
       "<Figure size 1224x216 with 2 Axes>"
      ]
     },
     "metadata": {
      "needs_background": "light"
     },
     "output_type": "display_data"
    }
   ],
   "source": [
    "# checking the day the of week with more victims\n",
    "\n",
    "df['day_of_week'] = pd.Categorical(df['day_of_week'], categories = ['Monday',\n",
    "                                                                    'Tuesday',\n",
    "                                                                    'Wednesday',\n",
    "                                                                    'Thursday',\n",
    "                                                                    'Friday',\n",
    "                                                                    'Saturday',\n",
    "                                                                    'Sunday'], ordered=True)\n",
    "\n",
    "aux_dayofweek = df.groupby('day_of_week').size().to_frame()\n",
    "result_dayofweek = aux_dayofweek[0].idxmax()\n",
    "text_dayofweek = 'is the day with the highest number of victims'\n",
    "\n",
    "make_chart_and_text(aux_dayofweek,\n",
    "                    aux_dayofweek[0],\n",
    "                    0,\n",
    "                    result_dayofweek,\n",
    "                    text_dayofweek,\n",
    "                    min_max = 'max',\n",
    "                    min_max_all = 'max',\n",
    "                    a = 0.4,\n",
    "                    b = 0.5,\n",
    "                    c = 0.4,\n",
    "                    d = 0.15,\n",
    "                    figsize = (17,3))"
   ]
  },
  {
   "cell_type": "markdown",
   "id": "premier-speaking",
   "metadata": {},
   "source": [
    "### 3 - Which period of the day has more victims of murder?"
   ]
  },
  {
   "cell_type": "code",
   "execution_count": 42,
   "id": "collected-spirit",
   "metadata": {
    "ExecuteTime": {
     "end_time": "2021-03-29T02:59:25.484486Z",
     "start_time": "2021-03-29T02:59:25.240935Z"
    }
   },
   "outputs": [
    {
     "data": {
      "image/png": "[encoded data removed]",
      "text/plain": [
       "<Figure size 1224x216 with 2 Axes>"
      ]
     },
     "metadata": {
      "needs_background": "light"
     },
     "output_type": "display_data"
    }
   ],
   "source": [
    "# checking the period of the day of with more victims\n",
    "\n",
    "aux_period = df.groupby('period').size().sort_values(ascending = True).to_frame()\n",
    "result_period = str(round(aux_period[0][4] / (aux_period[0].sum()) * 100, 2)) + '%'\n",
    "text_period = 'of people are murdered at night'\n",
    "\n",
    "make_chart_and_text(aux_period,\n",
    "                    aux_period[0],\n",
    "                    0,\n",
    "                    result_period,\n",
    "                    text_period,\n",
    "                    min_max = 'max',\n",
    "                    min_max_all = 'max',\n",
    "                    a = 0.4,\n",
    "                    b = 0.5,\n",
    "                    c = 0.4,\n",
    "                    d = 0.25,\n",
    "                    figsize = (17,3))"
   ]
  },
  {
   "cell_type": "code",
   "execution_count": 43,
   "id": "wooden-collect",
   "metadata": {
    "ExecuteTime": {
     "end_time": "2021-03-29T02:59:25.943593Z",
     "start_time": "2021-03-29T02:59:25.488208Z"
    }
   },
   "outputs": [
    {
     "data": {
      "image/png": "[encoded data removed]",
      "text/plain": [
       "<Figure size 1224x216 with 2 Axes>"
      ]
     },
     "metadata": {
      "needs_background": "light"
     },
     "output_type": "display_data"
    }
   ],
   "source": [
    "# checking the hour of the day with more victims\n",
    "\n",
    "df_hour = df[df.period != 'uncertain time']\n",
    "\n",
    "aux_hour = df_hour.groupby('hour').size().to_frame()\n",
    "result_hour = str(aux_hour.idxmax(0)[0]) + ' hrs'\n",
    "text_hour = 'is the time with most victims of murder'\n",
    "make_chart_and_text(aux_hour,\n",
    "                    aux_hour[0],\n",
    "                    0,\n",
    "                    result_hour,\n",
    "                    text_hour,\n",
    "                    min_max = 'max',\n",
    "                    min_max_all = 'max',\n",
    "                    a = 0.4,\n",
    "                    b = 0.5,\n",
    "                    c = 0.4,\n",
    "                    d = 0.25,\n",
    "                    figsize = (17,3))"
   ]
  },
  {
   "cell_type": "code",
   "execution_count": 44,
   "id": "cordless-disability",
   "metadata": {
    "ExecuteTime": {
     "end_time": "2021-03-29T02:59:26.920995Z",
     "start_time": "2021-03-29T02:59:25.947270Z"
    },
    "scrolled": false
   },
   "outputs": [
    {
     "data": {
      "image/png": "[encoded data removed]",
      "text/plain": [
       "<Figure size 1224x216 with 2 Axes>"
      ]
     },
     "metadata": {
      "needs_background": "light"
     },
     "output_type": "display_data"
    },
    {
     "data": {
      "image/png": "[encoded data removed]",
      "text/plain": [
       "<Figure size 1224x216 with 2 Axes>"
      ]
     },
     "metadata": {
      "needs_background": "light"
     },
     "output_type": "display_data"
    }
   ],
   "source": [
    "# checking the hour on weekdays with more victims\n",
    "\n",
    "df_hour_week = df[df.period != 'uncertain time']\n",
    "df_hour_week = df_hour_week[df_hour_week.weekend != 1]\n",
    "\n",
    "aux_hour_week = df_hour_week.groupby(['hour', 'weekend']).size().to_frame()\n",
    "aux_hour_week.index = aux_hour_week.index.droplevel('weekend')\n",
    "result_hour_week = str(aux_hour_week.idxmax(0)[0]) + ' hrs'\n",
    "text_hour_week = 'is the time with most victims of murder on weekdays'\n",
    "make_chart_and_text(aux_hour_week,\n",
    "                    aux_hour_week[0],\n",
    "                    0,\n",
    "                    result_hour_week,\n",
    "                    text_hour_week,\n",
    "                    min_max = 'max',\n",
    "                    min_max_all = 'max',\n",
    "                    font2_size = 18,\n",
    "                    a = 0.4,\n",
    "                    b = 0.5,\n",
    "                    c = 0.4,\n",
    "                    d = 0.25,\n",
    "                    figsize = (17,3))\n",
    "\n",
    "# checking the hour on weekdays with more victims\n",
    "\n",
    "df_hour_weekend = df[df.period != 'uncertain time']\n",
    "df_hour_weekend = df_hour_weekend[df_hour_weekend.weekend != 0]\n",
    "\n",
    "aux_hour_weekend = df_hour_weekend.groupby(['hour', 'weekend']).size().to_frame()\n",
    "aux_hour_weekend.index = aux_hour_weekend.index.droplevel('weekend')\n",
    "result_hour_weekend = str(aux_hour_weekend.idxmax(0)[0]) + ' hrs'\n",
    "text_hour_weekend = 'is the time with most victims of murder on weekends'\n",
    "make_chart_and_text(aux_hour_weekend,\n",
    "                    aux_hour_weekend[0],\n",
    "                    0,\n",
    "                    result_hour_weekend,\n",
    "                    text_hour_weekend,\n",
    "                    min_max = 'max',\n",
    "                    min_max_all = 'max',\n",
    "                    font2_size = 17,\n",
    "                    a = 0.4,\n",
    "                    b = 0.5,\n",
    "                    c = 0.4,\n",
    "                    d = 0.25,\n",
    "                    figsize = (17,3))"
   ]
  },
  {
   "cell_type": "markdown",
   "id": "sharing-means",
   "metadata": {},
   "source": [
    "## Conclusion"
   ]
  },
  {
   "cell_type": "markdown",
   "id": "minimal-auckland",
   "metadata": {},
   "source": [
    "The analysis obtained exciting information about the murder data in São Paulo's state. Firstly, it was possible to see that the numbers of murders in São Paulo's state have been dropping over the past few years. However, some state regions presented a significant decline in the number of victims, and three out of twelve regions demonstrated increases in their numbers.\n",
    "\n",
    "It was also possible to observe the big difference in the number of male and female victims and see how the number of female victims is falling significantly more than the male victims. Through gender and other characteristics, it was possible to identify groups, based on a simple victims' profile, that can be more likely to be victims than others.\n",
    "\n",
    "At the end of the study, it was possible to conclude that December is the month with the highest number of homicide victims, and Saturday is the day that most people are murdered. The period that most murders taking place is at night, and a slight difference in hours could be identified in the murders' data when weekdays and weekends are compared.\n",
    "\n",
    "As I previously treated the dataset published in this project to protect the victims' identity, the complete dataset presents more information, such as the location within a city where the homicide occurred. Carrying out implementations in this study using the area where these crimes took place with the intent of creating a map of homicides within a given municipality, besides, to compare these data with social indicators of the cities, such as the HDI and others, are the next steps for the continuity of this study."
   ]
  }
 ],
 "metadata": {
  "kernelspec": {
   "display_name": "Python 3",
   "language": "python",
   "name": "python3"
  },
  "language_info": {
   "codemirror_mode": {
    "name": "ipython",
    "version": 3
   },
   "file_extension": ".py",
   "mimetype": "text/x-python",
   "name": "python",
   "nbconvert_exporter": "python",
   "pygments_lexer": "ipython3",
   "version": "3.9.0"
  }
 },
 "nbformat": 4,
 "nbformat_minor": 5
}
